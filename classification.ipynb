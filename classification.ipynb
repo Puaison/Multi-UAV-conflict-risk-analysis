{
  "nbformat": 4,
  "nbformat_minor": 0,
  "metadata": {
    "colab": {
      "provenance": []
    },
    "kernelspec": {
      "name": "python3",
      "display_name": "Python 3"
    },
    "language_info": {
      "name": "python"
    }
  },
  "cells": [
    {
      "cell_type": "markdown",
      "source": [
        "## Setup\n",
        "Loading Libraries\n",
        "\n",
        "\n"
      ],
      "metadata": {
        "id": "9G8nZ6hnq2JG"
      }
    },
    {
      "cell_type": "code",
      "execution_count": 156,
      "metadata": {
        "colab": {
          "base_uri": "https://localhost:8080/"
        },
        "id": "HuhH5hKjqmtK",
        "outputId": "50555fda-18ea-497b-c8aa-6acc0b326bc0"
      },
      "outputs": [
        {
          "output_type": "stream",
          "name": "stdout",
          "text": [
            "Libraries imported.\n"
          ]
        }
      ],
      "source": [
        "import random\n",
        "import numpy as np\n",
        "import pandas as pd\n",
        "from sklearn import preprocessing\n",
        "import sklearn.metrics\n",
        "from sklearn.model_selection import train_test_split, cross_val_score, ShuffleSplit, GridSearchCV, RepeatedStratifiedKFold,KFold\n",
        "from sklearn import svm\n",
        "from sklearn.svm import SVR\n",
        "from sklearn.naive_bayes import *\n",
        "from sklearn.linear_model import LogisticRegression\n",
        "from sklearn.metrics import classification_report, confusion_matrix\n",
        "from sklearn.utils.multiclass import unique_labels\n",
        "import matplotlib.pyplot as plt\n",
        "from sklearn.manifold import TSNE\n",
        "from matplotlib.ticker import NullFormatter\n",
        "from time import time\n",
        "from sklearn.ensemble import BaggingClassifier, AdaBoostClassifier, BaggingRegressor, AdaBoostRegressor\n",
        "from sklearn.ensemble import BaggingRegressor, AdaBoostRegressor\n",
        "print(\"Libraries imported.\")"
      ]
    },
    {
      "cell_type": "markdown",
      "source": [
        "##Loading the dataset"
      ],
      "metadata": {
        "id": "cPE2YeIrru8l"
      }
    },
    {
      "cell_type": "code",
      "source": [
        "from google.colab import drive\n",
        "drive.mount('/content/drive')\n",
        "filename = '/content/drive/My Drive/train_set.tsv'\n",
        "dataset = pd.read_csv(filename, sep='\\t', header=0)"
      ],
      "metadata": {
        "colab": {
          "base_uri": "https://localhost:8080/"
        },
        "id": "sbkUknpyO1wT",
        "outputId": "f4012ea3-6834-4918-dc8b-994fb19ac063"
      },
      "execution_count": 157,
      "outputs": [
        {
          "output_type": "stream",
          "name": "stdout",
          "text": [
            "Drive already mounted at /content/drive; to attempt to forcibly remount, call drive.mount(\"/content/drive\", force_remount=True).\n"
          ]
        }
      ]
    },
    {
      "cell_type": "markdown",
      "source": [
        "##Not Normalized Dataset"
      ],
      "metadata": {
        "id": "uWgQ81mWehhA"
      }
    },
    {
      "cell_type": "code",
      "source": [
        "names = dataset.columns\n",
        "X_all= dataset.iloc[:,:-2]\n",
        "y_all = dataset.iloc[:,-2]\n",
        "X_embedded = TSNE(n_components=2, learning_rate='auto',init='random').fit_transform(X_all)\n",
        "class_names = np.array([\"0\",\"1\",\"2\",\"3\",\"4\"])\n",
        "X_all.head()"
      ],
      "metadata": {
        "colab": {
          "base_uri": "https://localhost:8080/",
          "height": 300
        },
        "id": "Z6JLTQwdbCYd",
        "outputId": "765ecdd4-eabe-41ed-a9c6-3f95afa09df6"
      },
      "execution_count": 152,
      "outputs": [
        {
          "output_type": "execute_result",
          "data": {
            "text/plain": [
              "   UAV_1_track       UAV_1_x       UAV_1_y    UAV_1_vx    UAV_1_vy  \\\n",
              "0     0.027068 -62300.591721 -59305.682068    6.705684  247.671970   \n",
              "1     4.023101 -17220.612570  47439.586909 -167.653031 -138.169553   \n",
              "2     1.841994 -19900.350438  59030.833595  208.716697  -58.033328   \n",
              "3     3.621532 -48565.126583 -11986.418570 -113.516305 -218.076997   \n",
              "4     2.318417  52665.281329 -47498.516869  177.796999 -164.846698   \n",
              "\n",
              "   UAV_1_target_x  UAV_1_target_y  UAV_2_track       UAV_2_x       UAV_2_y  \\\n",
              "0   -59569.480482    41566.912694     1.474570 -56681.475086  -5314.787648   \n",
              "1   -98139.258988   -19248.698541     2.614451  33573.808959  51374.559396   \n",
              "2    70435.277561    33913.163359     2.492568 -53314.291038 -15227.414024   \n",
              "3   -60503.694386   -34921.687695     4.941877  66081.722767 -13048.091807   \n",
              "4    63901.656021   -57916.461362     5.084740  -8541.183540   3543.309665   \n",
              "\n",
              "   ...    UAV_4_vy  UAV_4_target_x  UAV_4_target_y  UAV_5_track       UAV_5_x  \\\n",
              "0  ...   29.393295   -73393.079252    42576.874951     1.607547 -80967.561432   \n",
              "1  ... -254.404983    54579.884869   -35144.579226     4.315806  13285.311651   \n",
              "2  ... -184.529893    82065.359024   -23468.668544     0.954796  21679.563309   \n",
              "3  ...  159.756158    60575.192521    42374.513704     4.056282 -31560.842269   \n",
              "4  ...  -29.044969   -52711.027260    26128.828499     2.515598  18186.463747   \n",
              "\n",
              "        UAV_5_y    UAV_5_vx    UAV_5_vy  UAV_5_target_x  UAV_5_target_y  \n",
              "0  37684.582412  213.175442   -7.837820    41342.567045    33187.606489  \n",
              "1 -41245.545752 -196.978758  -82.489078    -2806.112817   -47984.174724  \n",
              "2 -34471.154448  208.580726  147.651921    78980.509691     6091.533217  \n",
              "3  36234.825255 -184.415246 -141.978597   -61666.394619    13057.001319  \n",
              "4  79639.001255  133.007662 -183.966901    63306.445359    17232.196700  \n",
              "\n",
              "[5 rows x 35 columns]"
            ],
            "text/html": [
              "\n",
              "  <div id=\"df-d0799b28-f9e8-4d14-861e-b15325ca489c\">\n",
              "    <div class=\"colab-df-container\">\n",
              "      <div>\n",
              "<style scoped>\n",
              "    .dataframe tbody tr th:only-of-type {\n",
              "        vertical-align: middle;\n",
              "    }\n",
              "\n",
              "    .dataframe tbody tr th {\n",
              "        vertical-align: top;\n",
              "    }\n",
              "\n",
              "    .dataframe thead th {\n",
              "        text-align: right;\n",
              "    }\n",
              "</style>\n",
              "<table border=\"1\" class=\"dataframe\">\n",
              "  <thead>\n",
              "    <tr style=\"text-align: right;\">\n",
              "      <th></th>\n",
              "      <th>UAV_1_track</th>\n",
              "      <th>UAV_1_x</th>\n",
              "      <th>UAV_1_y</th>\n",
              "      <th>UAV_1_vx</th>\n",
              "      <th>UAV_1_vy</th>\n",
              "      <th>UAV_1_target_x</th>\n",
              "      <th>UAV_1_target_y</th>\n",
              "      <th>UAV_2_track</th>\n",
              "      <th>UAV_2_x</th>\n",
              "      <th>UAV_2_y</th>\n",
              "      <th>...</th>\n",
              "      <th>UAV_4_vy</th>\n",
              "      <th>UAV_4_target_x</th>\n",
              "      <th>UAV_4_target_y</th>\n",
              "      <th>UAV_5_track</th>\n",
              "      <th>UAV_5_x</th>\n",
              "      <th>UAV_5_y</th>\n",
              "      <th>UAV_5_vx</th>\n",
              "      <th>UAV_5_vy</th>\n",
              "      <th>UAV_5_target_x</th>\n",
              "      <th>UAV_5_target_y</th>\n",
              "    </tr>\n",
              "  </thead>\n",
              "  <tbody>\n",
              "    <tr>\n",
              "      <th>0</th>\n",
              "      <td>0.027068</td>\n",
              "      <td>-62300.591721</td>\n",
              "      <td>-59305.682068</td>\n",
              "      <td>6.705684</td>\n",
              "      <td>247.671970</td>\n",
              "      <td>-59569.480482</td>\n",
              "      <td>41566.912694</td>\n",
              "      <td>1.474570</td>\n",
              "      <td>-56681.475086</td>\n",
              "      <td>-5314.787648</td>\n",
              "      <td>...</td>\n",
              "      <td>29.393295</td>\n",
              "      <td>-73393.079252</td>\n",
              "      <td>42576.874951</td>\n",
              "      <td>1.607547</td>\n",
              "      <td>-80967.561432</td>\n",
              "      <td>37684.582412</td>\n",
              "      <td>213.175442</td>\n",
              "      <td>-7.837820</td>\n",
              "      <td>41342.567045</td>\n",
              "      <td>33187.606489</td>\n",
              "    </tr>\n",
              "    <tr>\n",
              "      <th>1</th>\n",
              "      <td>4.023101</td>\n",
              "      <td>-17220.612570</td>\n",
              "      <td>47439.586909</td>\n",
              "      <td>-167.653031</td>\n",
              "      <td>-138.169553</td>\n",
              "      <td>-98139.258988</td>\n",
              "      <td>-19248.698541</td>\n",
              "      <td>2.614451</td>\n",
              "      <td>33573.808959</td>\n",
              "      <td>51374.559396</td>\n",
              "      <td>...</td>\n",
              "      <td>-254.404983</td>\n",
              "      <td>54579.884869</td>\n",
              "      <td>-35144.579226</td>\n",
              "      <td>4.315806</td>\n",
              "      <td>13285.311651</td>\n",
              "      <td>-41245.545752</td>\n",
              "      <td>-196.978758</td>\n",
              "      <td>-82.489078</td>\n",
              "      <td>-2806.112817</td>\n",
              "      <td>-47984.174724</td>\n",
              "    </tr>\n",
              "    <tr>\n",
              "      <th>2</th>\n",
              "      <td>1.841994</td>\n",
              "      <td>-19900.350438</td>\n",
              "      <td>59030.833595</td>\n",
              "      <td>208.716697</td>\n",
              "      <td>-58.033328</td>\n",
              "      <td>70435.277561</td>\n",
              "      <td>33913.163359</td>\n",
              "      <td>2.492568</td>\n",
              "      <td>-53314.291038</td>\n",
              "      <td>-15227.414024</td>\n",
              "      <td>...</td>\n",
              "      <td>-184.529893</td>\n",
              "      <td>82065.359024</td>\n",
              "      <td>-23468.668544</td>\n",
              "      <td>0.954796</td>\n",
              "      <td>21679.563309</td>\n",
              "      <td>-34471.154448</td>\n",
              "      <td>208.580726</td>\n",
              "      <td>147.651921</td>\n",
              "      <td>78980.509691</td>\n",
              "      <td>6091.533217</td>\n",
              "    </tr>\n",
              "    <tr>\n",
              "      <th>3</th>\n",
              "      <td>3.621532</td>\n",
              "      <td>-48565.126583</td>\n",
              "      <td>-11986.418570</td>\n",
              "      <td>-113.516305</td>\n",
              "      <td>-218.076997</td>\n",
              "      <td>-60503.694386</td>\n",
              "      <td>-34921.687695</td>\n",
              "      <td>4.941877</td>\n",
              "      <td>66081.722767</td>\n",
              "      <td>-13048.091807</td>\n",
              "      <td>...</td>\n",
              "      <td>159.756158</td>\n",
              "      <td>60575.192521</td>\n",
              "      <td>42374.513704</td>\n",
              "      <td>4.056282</td>\n",
              "      <td>-31560.842269</td>\n",
              "      <td>36234.825255</td>\n",
              "      <td>-184.415246</td>\n",
              "      <td>-141.978597</td>\n",
              "      <td>-61666.394619</td>\n",
              "      <td>13057.001319</td>\n",
              "    </tr>\n",
              "    <tr>\n",
              "      <th>4</th>\n",
              "      <td>2.318417</td>\n",
              "      <td>52665.281329</td>\n",
              "      <td>-47498.516869</td>\n",
              "      <td>177.796999</td>\n",
              "      <td>-164.846698</td>\n",
              "      <td>63901.656021</td>\n",
              "      <td>-57916.461362</td>\n",
              "      <td>5.084740</td>\n",
              "      <td>-8541.183540</td>\n",
              "      <td>3543.309665</td>\n",
              "      <td>...</td>\n",
              "      <td>-29.044969</td>\n",
              "      <td>-52711.027260</td>\n",
              "      <td>26128.828499</td>\n",
              "      <td>2.515598</td>\n",
              "      <td>18186.463747</td>\n",
              "      <td>79639.001255</td>\n",
              "      <td>133.007662</td>\n",
              "      <td>-183.966901</td>\n",
              "      <td>63306.445359</td>\n",
              "      <td>17232.196700</td>\n",
              "    </tr>\n",
              "  </tbody>\n",
              "</table>\n",
              "<p>5 rows × 35 columns</p>\n",
              "</div>\n",
              "      <button class=\"colab-df-convert\" onclick=\"convertToInteractive('df-d0799b28-f9e8-4d14-861e-b15325ca489c')\"\n",
              "              title=\"Convert this dataframe to an interactive table.\"\n",
              "              style=\"display:none;\">\n",
              "        \n",
              "  <svg xmlns=\"http://www.w3.org/2000/svg\" height=\"24px\"viewBox=\"0 0 24 24\"\n",
              "       width=\"24px\">\n",
              "    <path d=\"M0 0h24v24H0V0z\" fill=\"none\"/>\n",
              "    <path d=\"M18.56 5.44l.94 2.06.94-2.06 2.06-.94-2.06-.94-.94-2.06-.94 2.06-2.06.94zm-11 1L8.5 8.5l.94-2.06 2.06-.94-2.06-.94L8.5 2.5l-.94 2.06-2.06.94zm10 10l.94 2.06.94-2.06 2.06-.94-2.06-.94-.94-2.06-.94 2.06-2.06.94z\"/><path d=\"M17.41 7.96l-1.37-1.37c-.4-.4-.92-.59-1.43-.59-.52 0-1.04.2-1.43.59L10.3 9.45l-7.72 7.72c-.78.78-.78 2.05 0 2.83L4 21.41c.39.39.9.59 1.41.59.51 0 1.02-.2 1.41-.59l7.78-7.78 2.81-2.81c.8-.78.8-2.07 0-2.86zM5.41 20L4 18.59l7.72-7.72 1.47 1.35L5.41 20z\"/>\n",
              "  </svg>\n",
              "      </button>\n",
              "      \n",
              "  <style>\n",
              "    .colab-df-container {\n",
              "      display:flex;\n",
              "      flex-wrap:wrap;\n",
              "      gap: 12px;\n",
              "    }\n",
              "\n",
              "    .colab-df-convert {\n",
              "      background-color: #E8F0FE;\n",
              "      border: none;\n",
              "      border-radius: 50%;\n",
              "      cursor: pointer;\n",
              "      display: none;\n",
              "      fill: #1967D2;\n",
              "      height: 32px;\n",
              "      padding: 0 0 0 0;\n",
              "      width: 32px;\n",
              "    }\n",
              "\n",
              "    .colab-df-convert:hover {\n",
              "      background-color: #E2EBFA;\n",
              "      box-shadow: 0px 1px 2px rgba(60, 64, 67, 0.3), 0px 1px 3px 1px rgba(60, 64, 67, 0.15);\n",
              "      fill: #174EA6;\n",
              "    }\n",
              "\n",
              "    [theme=dark] .colab-df-convert {\n",
              "      background-color: #3B4455;\n",
              "      fill: #D2E3FC;\n",
              "    }\n",
              "\n",
              "    [theme=dark] .colab-df-convert:hover {\n",
              "      background-color: #434B5C;\n",
              "      box-shadow: 0px 1px 3px 1px rgba(0, 0, 0, 0.15);\n",
              "      filter: drop-shadow(0px 1px 2px rgba(0, 0, 0, 0.3));\n",
              "      fill: #FFFFFF;\n",
              "    }\n",
              "  </style>\n",
              "\n",
              "      <script>\n",
              "        const buttonEl =\n",
              "          document.querySelector('#df-d0799b28-f9e8-4d14-861e-b15325ca489c button.colab-df-convert');\n",
              "        buttonEl.style.display =\n",
              "          google.colab.kernel.accessAllowed ? 'block' : 'none';\n",
              "\n",
              "        async function convertToInteractive(key) {\n",
              "          const element = document.querySelector('#df-d0799b28-f9e8-4d14-861e-b15325ca489c');\n",
              "          const dataTable =\n",
              "            await google.colab.kernel.invokeFunction('convertToInteractive',\n",
              "                                                     [key], {});\n",
              "          if (!dataTable) return;\n",
              "\n",
              "          const docLinkHtml = 'Like what you see? Visit the ' +\n",
              "            '<a target=\"_blank\" href=https://colab.research.google.com/notebooks/data_table.ipynb>data table notebook</a>'\n",
              "            + ' to learn more about interactive tables.';\n",
              "          element.innerHTML = '';\n",
              "          dataTable['output_type'] = 'display_data';\n",
              "          await google.colab.output.renderOutput(dataTable, element);\n",
              "          const docLink = document.createElement('div');\n",
              "          docLink.innerHTML = docLinkHtml;\n",
              "          element.appendChild(docLink);\n",
              "        }\n",
              "      </script>\n",
              "    </div>\n",
              "  </div>\n",
              "  "
            ]
          },
          "metadata": {},
          "execution_count": 152
        }
      ]
    },
    {
      "cell_type": "markdown",
      "source": [
        "##Normalized Dataset between 0 and 1"
      ],
      "metadata": {
        "id": "g3UrZ8bIepDV"
      }
    },
    {
      "cell_type": "code",
      "source": [
        "scaler = preprocessing.MinMaxScaler()#tra 0 e 1\n",
        "d = scaler.fit_transform(dataset)\n",
        "names = dataset.columns\n",
        "scaled_df = pd.DataFrame(d,columns=names)\n",
        "X_all = scaled_df.iloc[:,:-2]\n",
        "y_all = dataset.iloc[:,-2]\n",
        "class_names = np.array([\"0\",\"1\",\"2\",\"3\",\"4\"])\n",
        "X_all.head()"
      ],
      "metadata": {
        "colab": {
          "base_uri": "https://localhost:8080/",
          "height": 300
        },
        "id": "3HaVnLNor1Zo",
        "outputId": "fbe3e4f8-6949-4256-fd4d-0ede7b628049"
      },
      "execution_count": 249,
      "outputs": [
        {
          "output_type": "execute_result",
          "data": {
            "text/plain": [
              "   UAV_1_track   UAV_1_x   UAV_1_y  UAV_1_vx  UAV_1_vy  UAV_1_target_x  \\\n",
              "0     0.003575  0.167803  0.161493  0.508819  0.985962        0.202369   \n",
              "1     0.640368  0.422673  0.741763  0.165028  0.229878        0.010242   \n",
              "2     0.292795  0.407523  0.804773  0.907133  0.386911        0.849959   \n",
              "3     0.576375  0.245460  0.418722  0.271772  0.073294        0.197715   \n",
              "4     0.368716  0.817790  0.225677  0.846167  0.177602        0.817414   \n",
              "\n",
              "   UAV_1_target_y  UAV_2_track   UAV_2_x   UAV_2_y  ...  UAV_4_vy  \\\n",
              "0        0.721751     0.234008  0.174139  0.482895  ...  0.559171   \n",
              "1        0.415316     0.415609  0.666341  0.787835  ...  0.004367   \n",
              "2        0.683186     0.396191  0.192501  0.429573  ...  0.140968   \n",
              "3        0.336344     0.786404  0.843621  0.441296  ...  0.814021   \n",
              "4        0.220479     0.809164  0.436669  0.530544  ...  0.444929   \n",
              "\n",
              "   UAV_4_target_x  UAV_4_target_y  UAV_5_track   UAV_5_x   UAV_5_y  UAV_5_vx  \\\n",
              "0        0.116869        0.723264     0.255023  0.105060  0.693768  0.915946   \n",
              "1        0.771184        0.339956     0.686534  0.586095  0.287196  0.113537   \n",
              "2        0.911715        0.397539     0.151020  0.628936  0.322092  0.906957   \n",
              "3        0.801837        0.722266     0.645184  0.357215  0.686300  0.138116   \n",
              "4        0.222615        0.642145     0.399705  0.611108  0.909877  0.759109   \n",
              "\n",
              "   UAV_5_vy  UAV_5_target_x  UAV_5_target_y  \n",
              "0  0.482930        0.708205        0.694046  \n",
              "1  0.337113        0.488949        0.271890  \n",
              "2  0.786650        0.895128        0.553126  \n",
              "3  0.220912        0.196630        0.589351  \n",
              "4  0.138896        0.817285        0.611065  \n",
              "\n",
              "[5 rows x 35 columns]"
            ],
            "text/html": [
              "\n",
              "  <div id=\"df-3b7966fc-ded6-44e5-90c5-a8992e4b440a\">\n",
              "    <div class=\"colab-df-container\">\n",
              "      <div>\n",
              "<style scoped>\n",
              "    .dataframe tbody tr th:only-of-type {\n",
              "        vertical-align: middle;\n",
              "    }\n",
              "\n",
              "    .dataframe tbody tr th {\n",
              "        vertical-align: top;\n",
              "    }\n",
              "\n",
              "    .dataframe thead th {\n",
              "        text-align: right;\n",
              "    }\n",
              "</style>\n",
              "<table border=\"1\" class=\"dataframe\">\n",
              "  <thead>\n",
              "    <tr style=\"text-align: right;\">\n",
              "      <th></th>\n",
              "      <th>UAV_1_track</th>\n",
              "      <th>UAV_1_x</th>\n",
              "      <th>UAV_1_y</th>\n",
              "      <th>UAV_1_vx</th>\n",
              "      <th>UAV_1_vy</th>\n",
              "      <th>UAV_1_target_x</th>\n",
              "      <th>UAV_1_target_y</th>\n",
              "      <th>UAV_2_track</th>\n",
              "      <th>UAV_2_x</th>\n",
              "      <th>UAV_2_y</th>\n",
              "      <th>...</th>\n",
              "      <th>UAV_4_vy</th>\n",
              "      <th>UAV_4_target_x</th>\n",
              "      <th>UAV_4_target_y</th>\n",
              "      <th>UAV_5_track</th>\n",
              "      <th>UAV_5_x</th>\n",
              "      <th>UAV_5_y</th>\n",
              "      <th>UAV_5_vx</th>\n",
              "      <th>UAV_5_vy</th>\n",
              "      <th>UAV_5_target_x</th>\n",
              "      <th>UAV_5_target_y</th>\n",
              "    </tr>\n",
              "  </thead>\n",
              "  <tbody>\n",
              "    <tr>\n",
              "      <th>0</th>\n",
              "      <td>0.003575</td>\n",
              "      <td>0.167803</td>\n",
              "      <td>0.161493</td>\n",
              "      <td>0.508819</td>\n",
              "      <td>0.985962</td>\n",
              "      <td>0.202369</td>\n",
              "      <td>0.721751</td>\n",
              "      <td>0.234008</td>\n",
              "      <td>0.174139</td>\n",
              "      <td>0.482895</td>\n",
              "      <td>...</td>\n",
              "      <td>0.559171</td>\n",
              "      <td>0.116869</td>\n",
              "      <td>0.723264</td>\n",
              "      <td>0.255023</td>\n",
              "      <td>0.105060</td>\n",
              "      <td>0.693768</td>\n",
              "      <td>0.915946</td>\n",
              "      <td>0.482930</td>\n",
              "      <td>0.708205</td>\n",
              "      <td>0.694046</td>\n",
              "    </tr>\n",
              "    <tr>\n",
              "      <th>1</th>\n",
              "      <td>0.640368</td>\n",
              "      <td>0.422673</td>\n",
              "      <td>0.741763</td>\n",
              "      <td>0.165028</td>\n",
              "      <td>0.229878</td>\n",
              "      <td>0.010242</td>\n",
              "      <td>0.415316</td>\n",
              "      <td>0.415609</td>\n",
              "      <td>0.666341</td>\n",
              "      <td>0.787835</td>\n",
              "      <td>...</td>\n",
              "      <td>0.004367</td>\n",
              "      <td>0.771184</td>\n",
              "      <td>0.339956</td>\n",
              "      <td>0.686534</td>\n",
              "      <td>0.586095</td>\n",
              "      <td>0.287196</td>\n",
              "      <td>0.113537</td>\n",
              "      <td>0.337113</td>\n",
              "      <td>0.488949</td>\n",
              "      <td>0.271890</td>\n",
              "    </tr>\n",
              "    <tr>\n",
              "      <th>2</th>\n",
              "      <td>0.292795</td>\n",
              "      <td>0.407523</td>\n",
              "      <td>0.804773</td>\n",
              "      <td>0.907133</td>\n",
              "      <td>0.386911</td>\n",
              "      <td>0.849959</td>\n",
              "      <td>0.683186</td>\n",
              "      <td>0.396191</td>\n",
              "      <td>0.192501</td>\n",
              "      <td>0.429573</td>\n",
              "      <td>...</td>\n",
              "      <td>0.140968</td>\n",
              "      <td>0.911715</td>\n",
              "      <td>0.397539</td>\n",
              "      <td>0.151020</td>\n",
              "      <td>0.628936</td>\n",
              "      <td>0.322092</td>\n",
              "      <td>0.906957</td>\n",
              "      <td>0.786650</td>\n",
              "      <td>0.895128</td>\n",
              "      <td>0.553126</td>\n",
              "    </tr>\n",
              "    <tr>\n",
              "      <th>3</th>\n",
              "      <td>0.576375</td>\n",
              "      <td>0.245460</td>\n",
              "      <td>0.418722</td>\n",
              "      <td>0.271772</td>\n",
              "      <td>0.073294</td>\n",
              "      <td>0.197715</td>\n",
              "      <td>0.336344</td>\n",
              "      <td>0.786404</td>\n",
              "      <td>0.843621</td>\n",
              "      <td>0.441296</td>\n",
              "      <td>...</td>\n",
              "      <td>0.814021</td>\n",
              "      <td>0.801837</td>\n",
              "      <td>0.722266</td>\n",
              "      <td>0.645184</td>\n",
              "      <td>0.357215</td>\n",
              "      <td>0.686300</td>\n",
              "      <td>0.138116</td>\n",
              "      <td>0.220912</td>\n",
              "      <td>0.196630</td>\n",
              "      <td>0.589351</td>\n",
              "    </tr>\n",
              "    <tr>\n",
              "      <th>4</th>\n",
              "      <td>0.368716</td>\n",
              "      <td>0.817790</td>\n",
              "      <td>0.225677</td>\n",
              "      <td>0.846167</td>\n",
              "      <td>0.177602</td>\n",
              "      <td>0.817414</td>\n",
              "      <td>0.220479</td>\n",
              "      <td>0.809164</td>\n",
              "      <td>0.436669</td>\n",
              "      <td>0.530544</td>\n",
              "      <td>...</td>\n",
              "      <td>0.444929</td>\n",
              "      <td>0.222615</td>\n",
              "      <td>0.642145</td>\n",
              "      <td>0.399705</td>\n",
              "      <td>0.611108</td>\n",
              "      <td>0.909877</td>\n",
              "      <td>0.759109</td>\n",
              "      <td>0.138896</td>\n",
              "      <td>0.817285</td>\n",
              "      <td>0.611065</td>\n",
              "    </tr>\n",
              "  </tbody>\n",
              "</table>\n",
              "<p>5 rows × 35 columns</p>\n",
              "</div>\n",
              "      <button class=\"colab-df-convert\" onclick=\"convertToInteractive('df-3b7966fc-ded6-44e5-90c5-a8992e4b440a')\"\n",
              "              title=\"Convert this dataframe to an interactive table.\"\n",
              "              style=\"display:none;\">\n",
              "        \n",
              "  <svg xmlns=\"http://www.w3.org/2000/svg\" height=\"24px\"viewBox=\"0 0 24 24\"\n",
              "       width=\"24px\">\n",
              "    <path d=\"M0 0h24v24H0V0z\" fill=\"none\"/>\n",
              "    <path d=\"M18.56 5.44l.94 2.06.94-2.06 2.06-.94-2.06-.94-.94-2.06-.94 2.06-2.06.94zm-11 1L8.5 8.5l.94-2.06 2.06-.94-2.06-.94L8.5 2.5l-.94 2.06-2.06.94zm10 10l.94 2.06.94-2.06 2.06-.94-2.06-.94-.94-2.06-.94 2.06-2.06.94z\"/><path d=\"M17.41 7.96l-1.37-1.37c-.4-.4-.92-.59-1.43-.59-.52 0-1.04.2-1.43.59L10.3 9.45l-7.72 7.72c-.78.78-.78 2.05 0 2.83L4 21.41c.39.39.9.59 1.41.59.51 0 1.02-.2 1.41-.59l7.78-7.78 2.81-2.81c.8-.78.8-2.07 0-2.86zM5.41 20L4 18.59l7.72-7.72 1.47 1.35L5.41 20z\"/>\n",
              "  </svg>\n",
              "      </button>\n",
              "      \n",
              "  <style>\n",
              "    .colab-df-container {\n",
              "      display:flex;\n",
              "      flex-wrap:wrap;\n",
              "      gap: 12px;\n",
              "    }\n",
              "\n",
              "    .colab-df-convert {\n",
              "      background-color: #E8F0FE;\n",
              "      border: none;\n",
              "      border-radius: 50%;\n",
              "      cursor: pointer;\n",
              "      display: none;\n",
              "      fill: #1967D2;\n",
              "      height: 32px;\n",
              "      padding: 0 0 0 0;\n",
              "      width: 32px;\n",
              "    }\n",
              "\n",
              "    .colab-df-convert:hover {\n",
              "      background-color: #E2EBFA;\n",
              "      box-shadow: 0px 1px 2px rgba(60, 64, 67, 0.3), 0px 1px 3px 1px rgba(60, 64, 67, 0.15);\n",
              "      fill: #174EA6;\n",
              "    }\n",
              "\n",
              "    [theme=dark] .colab-df-convert {\n",
              "      background-color: #3B4455;\n",
              "      fill: #D2E3FC;\n",
              "    }\n",
              "\n",
              "    [theme=dark] .colab-df-convert:hover {\n",
              "      background-color: #434B5C;\n",
              "      box-shadow: 0px 1px 3px 1px rgba(0, 0, 0, 0.15);\n",
              "      filter: drop-shadow(0px 1px 2px rgba(0, 0, 0, 0.3));\n",
              "      fill: #FFFFFF;\n",
              "    }\n",
              "  </style>\n",
              "\n",
              "      <script>\n",
              "        const buttonEl =\n",
              "          document.querySelector('#df-3b7966fc-ded6-44e5-90c5-a8992e4b440a button.colab-df-convert');\n",
              "        buttonEl.style.display =\n",
              "          google.colab.kernel.accessAllowed ? 'block' : 'none';\n",
              "\n",
              "        async function convertToInteractive(key) {\n",
              "          const element = document.querySelector('#df-3b7966fc-ded6-44e5-90c5-a8992e4b440a');\n",
              "          const dataTable =\n",
              "            await google.colab.kernel.invokeFunction('convertToInteractive',\n",
              "                                                     [key], {});\n",
              "          if (!dataTable) return;\n",
              "\n",
              "          const docLinkHtml = 'Like what you see? Visit the ' +\n",
              "            '<a target=\"_blank\" href=https://colab.research.google.com/notebooks/data_table.ipynb>data table notebook</a>'\n",
              "            + ' to learn more about interactive tables.';\n",
              "          element.innerHTML = '';\n",
              "          dataTable['output_type'] = 'display_data';\n",
              "          await google.colab.output.renderOutput(dataTable, element);\n",
              "          const docLink = document.createElement('div');\n",
              "          docLink.innerHTML = docLinkHtml;\n",
              "          element.appendChild(docLink);\n",
              "        }\n",
              "      </script>\n",
              "    </div>\n",
              "  </div>\n",
              "  "
            ]
          },
          "metadata": {},
          "execution_count": 249
        }
      ]
    },
    {
      "cell_type": "markdown",
      "source": [
        "##Normalized Dataset with unit Vector"
      ],
      "metadata": {
        "id": "Sy_S4tQzR9HX"
      }
    },
    {
      "cell_type": "code",
      "source": [
        "names = dataset.columns\n",
        "X_all = dataset.iloc[:,:-2]\n",
        "y_all = dataset.iloc[:,-2]\n",
        "X_all=preprocessing.normalize(X_all)\n",
        "class_names = np.array([\"0\",\"1\",\"2\",\"3\",\"4\"])\n",
        "print(X_all)"
      ],
      "metadata": {
        "colab": {
          "base_uri": "https://localhost:8080/"
        },
        "id": "X-aQ1xmBSCiq",
        "outputId": "c4f41933-bf32-4ebd-c21c-c220eff7c277"
      },
      "execution_count": 273,
      "outputs": [
        {
          "output_type": "stream",
          "name": "stdout",
          "text": [
            "[[ 1.26002449e-07 -2.90008713e-01 -2.76067435e-01 ... -3.64849862e-05\n",
            "   1.92449290e-01  1.54488020e-01]\n",
            " [ 1.92161731e-05 -8.22535347e-02  2.26593200e-01 ... -3.94005625e-04\n",
            "  -1.34032803e-02 -2.29194401e-01]\n",
            " [ 9.08164239e-06 -9.81153217e-02  2.91041570e-01 ...  7.27972898e-04\n",
            "   3.89400083e-01  3.00332772e-02]\n",
            " ...\n",
            " [ 3.85009397e-06 -9.72927701e-02  1.73281789e-01 ... -9.03084955e-04\n",
            "  -1.76928062e-01 -3.48942887e-01]\n",
            " [ 2.15362211e-05  2.38109318e-01 -1.58388959e-01 ... -5.47289839e-04\n",
            "  -1.93960240e-01  1.07885589e-03]\n",
            " [ 7.03015488e-06 -9.78493862e-02 -3.33838771e-01 ...  1.15772278e-03\n",
            "  -2.49503674e-01  2.90189974e-01]]\n"
          ]
        }
      ]
    },
    {
      "cell_type": "markdown",
      "source": [
        "##Normalized test with mean removal and variance scaling"
      ],
      "metadata": {
        "id": "MJ0fdsJetzpW"
      }
    },
    {
      "cell_type": "code",
      "source": [
        "scaler = preprocessing.StandardScaler()\n",
        "d=scaler.fit_transform(dataset)\n",
        "names = dataset.columns\n",
        "scaled_df = pd.DataFrame(d,columns=names)\n",
        "X_all = scaled_df.iloc[:,:-2]\n",
        "y_all = dataset.iloc[:,-2]\n",
        "class_names = np.array([\"0\",\"1\",\"2\",\"3\",\"4\"])\n",
        "X_all.head()"
      ],
      "metadata": {
        "colab": {
          "base_uri": "https://localhost:8080/",
          "height": 300
        },
        "id": "MyiF9NkKuXIt",
        "outputId": "95f19eab-0780-4ccf-83fe-f15c0751c095"
      },
      "execution_count": 175,
      "outputs": [
        {
          "output_type": "execute_result",
          "data": {
            "text/plain": [
              "   UAV_1_track   UAV_1_x   UAV_1_y  UAV_1_vx  UAV_1_vy  UAV_1_target_x  \\\n",
              "0    -1.716449 -1.622653 -1.605434  0.028033  1.528305       -1.120844   \n",
              "1     0.517720 -0.404497  1.192812 -1.041943 -0.803886       -1.863554   \n",
              "2    -0.701730 -0.476909  1.496668  1.267701 -0.319508        1.382562   \n",
              "3     0.293204 -1.251492 -0.364995 -0.709726 -1.286880       -1.138833   \n",
              "4    -0.435363  1.483968 -1.295918  1.077958 -0.965134        1.256749   \n",
              "\n",
              "   UAV_1_target_y  UAV_2_track   UAV_2_x   UAV_2_y  ...  UAV_4_vy  \\\n",
              "0        0.848169    -0.934516 -1.458329 -0.080881  ...  0.149195   \n",
              "1       -0.341506    -0.293685  0.855370  1.341817  ... -1.599624   \n",
              "2        0.698446    -0.362207 -1.372011 -0.329652  ... -1.169040   \n",
              "3       -0.648101     1.014773  1.688712 -0.274959  ...  0.952515   \n",
              "4       -1.097924     1.095090 -0.224250  0.141425  ... -0.210913   \n",
              "\n",
              "   UAV_4_target_x  UAV_4_target_y  UAV_5_track   UAV_5_x   UAV_5_y  UAV_5_vx  \\\n",
              "0       -1.430235        0.800377    -0.866545 -1.699431  0.821942  1.219419   \n",
              "1        1.148769       -0.688636     0.649873  0.354368 -0.916189 -1.201367   \n",
              "2        1.702676       -0.464945    -1.232036  0.537281 -0.767010  1.192301   \n",
              "3        1.269591        0.796500     0.504560 -0.622844  0.790017 -1.127215   \n",
              "4       -1.013435        0.485260    -0.358106  0.461165  1.745826  0.746258   \n",
              "\n",
              "   UAV_5_vy  UAV_5_target_x  UAV_5_target_y  \n",
              "0 -0.035688        0.782818        0.668860  \n",
              "1 -0.507752       -0.063923       -0.951171  \n",
              "2  0.947566        1.504686        0.128075  \n",
              "3 -0.883940       -1.192821        0.267092  \n",
              "4 -1.149457        1.204069        0.350421  \n",
              "\n",
              "[5 rows x 35 columns]"
            ],
            "text/html": [
              "\n",
              "  <div id=\"df-2a3065f7-d764-4090-b720-6c3f3f354cd2\">\n",
              "    <div class=\"colab-df-container\">\n",
              "      <div>\n",
              "<style scoped>\n",
              "    .dataframe tbody tr th:only-of-type {\n",
              "        vertical-align: middle;\n",
              "    }\n",
              "\n",
              "    .dataframe tbody tr th {\n",
              "        vertical-align: top;\n",
              "    }\n",
              "\n",
              "    .dataframe thead th {\n",
              "        text-align: right;\n",
              "    }\n",
              "</style>\n",
              "<table border=\"1\" class=\"dataframe\">\n",
              "  <thead>\n",
              "    <tr style=\"text-align: right;\">\n",
              "      <th></th>\n",
              "      <th>UAV_1_track</th>\n",
              "      <th>UAV_1_x</th>\n",
              "      <th>UAV_1_y</th>\n",
              "      <th>UAV_1_vx</th>\n",
              "      <th>UAV_1_vy</th>\n",
              "      <th>UAV_1_target_x</th>\n",
              "      <th>UAV_1_target_y</th>\n",
              "      <th>UAV_2_track</th>\n",
              "      <th>UAV_2_x</th>\n",
              "      <th>UAV_2_y</th>\n",
              "      <th>...</th>\n",
              "      <th>UAV_4_vy</th>\n",
              "      <th>UAV_4_target_x</th>\n",
              "      <th>UAV_4_target_y</th>\n",
              "      <th>UAV_5_track</th>\n",
              "      <th>UAV_5_x</th>\n",
              "      <th>UAV_5_y</th>\n",
              "      <th>UAV_5_vx</th>\n",
              "      <th>UAV_5_vy</th>\n",
              "      <th>UAV_5_target_x</th>\n",
              "      <th>UAV_5_target_y</th>\n",
              "    </tr>\n",
              "  </thead>\n",
              "  <tbody>\n",
              "    <tr>\n",
              "      <th>0</th>\n",
              "      <td>-1.716449</td>\n",
              "      <td>-1.622653</td>\n",
              "      <td>-1.605434</td>\n",
              "      <td>0.028033</td>\n",
              "      <td>1.528305</td>\n",
              "      <td>-1.120844</td>\n",
              "      <td>0.848169</td>\n",
              "      <td>-0.934516</td>\n",
              "      <td>-1.458329</td>\n",
              "      <td>-0.080881</td>\n",
              "      <td>...</td>\n",
              "      <td>0.149195</td>\n",
              "      <td>-1.430235</td>\n",
              "      <td>0.800377</td>\n",
              "      <td>-0.866545</td>\n",
              "      <td>-1.699431</td>\n",
              "      <td>0.821942</td>\n",
              "      <td>1.219419</td>\n",
              "      <td>-0.035688</td>\n",
              "      <td>0.782818</td>\n",
              "      <td>0.668860</td>\n",
              "    </tr>\n",
              "    <tr>\n",
              "      <th>1</th>\n",
              "      <td>0.517720</td>\n",
              "      <td>-0.404497</td>\n",
              "      <td>1.192812</td>\n",
              "      <td>-1.041943</td>\n",
              "      <td>-0.803886</td>\n",
              "      <td>-1.863554</td>\n",
              "      <td>-0.341506</td>\n",
              "      <td>-0.293685</td>\n",
              "      <td>0.855370</td>\n",
              "      <td>1.341817</td>\n",
              "      <td>...</td>\n",
              "      <td>-1.599624</td>\n",
              "      <td>1.148769</td>\n",
              "      <td>-0.688636</td>\n",
              "      <td>0.649873</td>\n",
              "      <td>0.354368</td>\n",
              "      <td>-0.916189</td>\n",
              "      <td>-1.201367</td>\n",
              "      <td>-0.507752</td>\n",
              "      <td>-0.063923</td>\n",
              "      <td>-0.951171</td>\n",
              "    </tr>\n",
              "    <tr>\n",
              "      <th>2</th>\n",
              "      <td>-0.701730</td>\n",
              "      <td>-0.476909</td>\n",
              "      <td>1.496668</td>\n",
              "      <td>1.267701</td>\n",
              "      <td>-0.319508</td>\n",
              "      <td>1.382562</td>\n",
              "      <td>0.698446</td>\n",
              "      <td>-0.362207</td>\n",
              "      <td>-1.372011</td>\n",
              "      <td>-0.329652</td>\n",
              "      <td>...</td>\n",
              "      <td>-1.169040</td>\n",
              "      <td>1.702676</td>\n",
              "      <td>-0.464945</td>\n",
              "      <td>-1.232036</td>\n",
              "      <td>0.537281</td>\n",
              "      <td>-0.767010</td>\n",
              "      <td>1.192301</td>\n",
              "      <td>0.947566</td>\n",
              "      <td>1.504686</td>\n",
              "      <td>0.128075</td>\n",
              "    </tr>\n",
              "    <tr>\n",
              "      <th>3</th>\n",
              "      <td>0.293204</td>\n",
              "      <td>-1.251492</td>\n",
              "      <td>-0.364995</td>\n",
              "      <td>-0.709726</td>\n",
              "      <td>-1.286880</td>\n",
              "      <td>-1.138833</td>\n",
              "      <td>-0.648101</td>\n",
              "      <td>1.014773</td>\n",
              "      <td>1.688712</td>\n",
              "      <td>-0.274959</td>\n",
              "      <td>...</td>\n",
              "      <td>0.952515</td>\n",
              "      <td>1.269591</td>\n",
              "      <td>0.796500</td>\n",
              "      <td>0.504560</td>\n",
              "      <td>-0.622844</td>\n",
              "      <td>0.790017</td>\n",
              "      <td>-1.127215</td>\n",
              "      <td>-0.883940</td>\n",
              "      <td>-1.192821</td>\n",
              "      <td>0.267092</td>\n",
              "    </tr>\n",
              "    <tr>\n",
              "      <th>4</th>\n",
              "      <td>-0.435363</td>\n",
              "      <td>1.483968</td>\n",
              "      <td>-1.295918</td>\n",
              "      <td>1.077958</td>\n",
              "      <td>-0.965134</td>\n",
              "      <td>1.256749</td>\n",
              "      <td>-1.097924</td>\n",
              "      <td>1.095090</td>\n",
              "      <td>-0.224250</td>\n",
              "      <td>0.141425</td>\n",
              "      <td>...</td>\n",
              "      <td>-0.210913</td>\n",
              "      <td>-1.013435</td>\n",
              "      <td>0.485260</td>\n",
              "      <td>-0.358106</td>\n",
              "      <td>0.461165</td>\n",
              "      <td>1.745826</td>\n",
              "      <td>0.746258</td>\n",
              "      <td>-1.149457</td>\n",
              "      <td>1.204069</td>\n",
              "      <td>0.350421</td>\n",
              "    </tr>\n",
              "  </tbody>\n",
              "</table>\n",
              "<p>5 rows × 35 columns</p>\n",
              "</div>\n",
              "      <button class=\"colab-df-convert\" onclick=\"convertToInteractive('df-2a3065f7-d764-4090-b720-6c3f3f354cd2')\"\n",
              "              title=\"Convert this dataframe to an interactive table.\"\n",
              "              style=\"display:none;\">\n",
              "        \n",
              "  <svg xmlns=\"http://www.w3.org/2000/svg\" height=\"24px\"viewBox=\"0 0 24 24\"\n",
              "       width=\"24px\">\n",
              "    <path d=\"M0 0h24v24H0V0z\" fill=\"none\"/>\n",
              "    <path d=\"M18.56 5.44l.94 2.06.94-2.06 2.06-.94-2.06-.94-.94-2.06-.94 2.06-2.06.94zm-11 1L8.5 8.5l.94-2.06 2.06-.94-2.06-.94L8.5 2.5l-.94 2.06-2.06.94zm10 10l.94 2.06.94-2.06 2.06-.94-2.06-.94-.94-2.06-.94 2.06-2.06.94z\"/><path d=\"M17.41 7.96l-1.37-1.37c-.4-.4-.92-.59-1.43-.59-.52 0-1.04.2-1.43.59L10.3 9.45l-7.72 7.72c-.78.78-.78 2.05 0 2.83L4 21.41c.39.39.9.59 1.41.59.51 0 1.02-.2 1.41-.59l7.78-7.78 2.81-2.81c.8-.78.8-2.07 0-2.86zM5.41 20L4 18.59l7.72-7.72 1.47 1.35L5.41 20z\"/>\n",
              "  </svg>\n",
              "      </button>\n",
              "      \n",
              "  <style>\n",
              "    .colab-df-container {\n",
              "      display:flex;\n",
              "      flex-wrap:wrap;\n",
              "      gap: 12px;\n",
              "    }\n",
              "\n",
              "    .colab-df-convert {\n",
              "      background-color: #E8F0FE;\n",
              "      border: none;\n",
              "      border-radius: 50%;\n",
              "      cursor: pointer;\n",
              "      display: none;\n",
              "      fill: #1967D2;\n",
              "      height: 32px;\n",
              "      padding: 0 0 0 0;\n",
              "      width: 32px;\n",
              "    }\n",
              "\n",
              "    .colab-df-convert:hover {\n",
              "      background-color: #E2EBFA;\n",
              "      box-shadow: 0px 1px 2px rgba(60, 64, 67, 0.3), 0px 1px 3px 1px rgba(60, 64, 67, 0.15);\n",
              "      fill: #174EA6;\n",
              "    }\n",
              "\n",
              "    [theme=dark] .colab-df-convert {\n",
              "      background-color: #3B4455;\n",
              "      fill: #D2E3FC;\n",
              "    }\n",
              "\n",
              "    [theme=dark] .colab-df-convert:hover {\n",
              "      background-color: #434B5C;\n",
              "      box-shadow: 0px 1px 3px 1px rgba(0, 0, 0, 0.15);\n",
              "      filter: drop-shadow(0px 1px 2px rgba(0, 0, 0, 0.3));\n",
              "      fill: #FFFFFF;\n",
              "    }\n",
              "  </style>\n",
              "\n",
              "      <script>\n",
              "        const buttonEl =\n",
              "          document.querySelector('#df-2a3065f7-d764-4090-b720-6c3f3f354cd2 button.colab-df-convert');\n",
              "        buttonEl.style.display =\n",
              "          google.colab.kernel.accessAllowed ? 'block' : 'none';\n",
              "\n",
              "        async function convertToInteractive(key) {\n",
              "          const element = document.querySelector('#df-2a3065f7-d764-4090-b720-6c3f3f354cd2');\n",
              "          const dataTable =\n",
              "            await google.colab.kernel.invokeFunction('convertToInteractive',\n",
              "                                                     [key], {});\n",
              "          if (!dataTable) return;\n",
              "\n",
              "          const docLinkHtml = 'Like what you see? Visit the ' +\n",
              "            '<a target=\"_blank\" href=https://colab.research.google.com/notebooks/data_table.ipynb>data table notebook</a>'\n",
              "            + ' to learn more about interactive tables.';\n",
              "          element.innerHTML = '';\n",
              "          dataTable['output_type'] = 'display_data';\n",
              "          await google.colab.output.renderOutput(dataTable, element);\n",
              "          const docLink = document.createElement('div');\n",
              "          docLink.innerHTML = docLinkHtml;\n",
              "          element.appendChild(docLink);\n",
              "        }\n",
              "      </script>\n",
              "    </div>\n",
              "  </div>\n",
              "  "
            ]
          },
          "metadata": {},
          "execution_count": 175
        }
      ]
    },
    {
      "cell_type": "markdown",
      "source": [
        "## Normalized test with RobustScaler"
      ],
      "metadata": {
        "id": "rfEzblHgEeib"
      }
    },
    {
      "cell_type": "code",
      "source": [
        "scaler = preprocessing.RobustScaler().fit(dataset)\n",
        "d=scaler.fit_transform(dataset)\n",
        "names = dataset.columns\n",
        "scaled_df = pd.DataFrame(d,columns=names)\n",
        "X_all = scaled_df.iloc[:,:-2]\n",
        "y_all = dataset.iloc[:,-2]\n",
        "class_names = np.array([\"0\",\"1\",\"2\",\"3\",\"4\"])\n",
        "X_all.head()"
      ],
      "metadata": {
        "colab": {
          "base_uri": "https://localhost:8080/",
          "height": 300
        },
        "id": "jriiqqX1EpNi",
        "outputId": "57faeb0b-535f-4876-eb38-68bfae956155"
      },
      "execution_count": 143,
      "outputs": [
        {
          "output_type": "execute_result",
          "data": {
            "text/plain": [
              "   UAV_1_track   UAV_1_x   UAV_1_y  UAV_1_vx  UAV_1_vy  UAV_1_target_x  \\\n",
              "0    -1.013418 -1.024432 -1.092455  0.006052  0.771178       -0.677074   \n",
              "1     0.299283 -0.236641  0.792996 -0.536874 -0.384643       -1.104799   \n",
              "2    -0.417213 -0.283471  0.997733  0.635083 -0.144588        0.764636   \n",
              "3     0.167367 -0.784399 -0.256651 -0.368300 -0.624012       -0.687434   \n",
              "4    -0.260707  0.984643 -0.883904  0.538804 -0.464557        0.692180   \n",
              "\n",
              "   UAV_1_target_y  UAV_2_track   UAV_2_x   UAV_2_y  ...  UAV_4_vy  \\\n",
              "0        0.504303    -0.580127 -1.003186 -0.044063  ...  0.051787   \n",
              "1       -0.180816    -0.188856  0.550774  0.856713  ... -0.835904   \n",
              "2        0.418080    -0.230693 -0.945212 -0.201572  ... -0.617342   \n",
              "3       -0.357381     0.610047  1.110475 -0.166943  ...  0.459548   \n",
              "4       -0.616429     0.659086 -0.174336  0.096689  ... -0.131002   \n",
              "\n",
              "   UAV_4_target_x  UAV_4_target_y  UAV_5_track   UAV_5_x   UAV_5_y  UAV_5_vx  \\\n",
              "0       -0.842565        0.437358    -0.457888 -1.056806  0.499256  0.574846   \n",
              "1        0.685923       -0.388408     0.419413  0.215760 -0.553222 -0.587333   \n",
              "2        1.014205       -0.264356    -0.669337  0.329096 -0.462891  0.561827   \n",
              "3        0.757530        0.435208     0.335344 -0.389736  0.479925 -0.551735   \n",
              "4       -0.595542        0.262602    -0.163738  0.281933  1.058690  0.347689   \n",
              "\n",
              "   UAV_5_vy  UAV_5_target_x  UAV_5_target_y  \n",
              "0  0.002500        0.428784        0.364549  \n",
              "1 -0.245736       -0.039274       -0.544360  \n",
              "2  0.519547        0.827816        0.061145  \n",
              "3 -0.443555       -0.663302        0.139140  \n",
              "4 -0.583178        0.661642        0.185891  \n",
              "\n",
              "[5 rows x 35 columns]"
            ],
            "text/html": [
              "\n",
              "  <div id=\"df-35765f11-08ce-472e-8963-e01762ae0b55\">\n",
              "    <div class=\"colab-df-container\">\n",
              "      <div>\n",
              "<style scoped>\n",
              "    .dataframe tbody tr th:only-of-type {\n",
              "        vertical-align: middle;\n",
              "    }\n",
              "\n",
              "    .dataframe tbody tr th {\n",
              "        vertical-align: top;\n",
              "    }\n",
              "\n",
              "    .dataframe thead th {\n",
              "        text-align: right;\n",
              "    }\n",
              "</style>\n",
              "<table border=\"1\" class=\"dataframe\">\n",
              "  <thead>\n",
              "    <tr style=\"text-align: right;\">\n",
              "      <th></th>\n",
              "      <th>UAV_1_track</th>\n",
              "      <th>UAV_1_x</th>\n",
              "      <th>UAV_1_y</th>\n",
              "      <th>UAV_1_vx</th>\n",
              "      <th>UAV_1_vy</th>\n",
              "      <th>UAV_1_target_x</th>\n",
              "      <th>UAV_1_target_y</th>\n",
              "      <th>UAV_2_track</th>\n",
              "      <th>UAV_2_x</th>\n",
              "      <th>UAV_2_y</th>\n",
              "      <th>...</th>\n",
              "      <th>UAV_4_vy</th>\n",
              "      <th>UAV_4_target_x</th>\n",
              "      <th>UAV_4_target_y</th>\n",
              "      <th>UAV_5_track</th>\n",
              "      <th>UAV_5_x</th>\n",
              "      <th>UAV_5_y</th>\n",
              "      <th>UAV_5_vx</th>\n",
              "      <th>UAV_5_vy</th>\n",
              "      <th>UAV_5_target_x</th>\n",
              "      <th>UAV_5_target_y</th>\n",
              "    </tr>\n",
              "  </thead>\n",
              "  <tbody>\n",
              "    <tr>\n",
              "      <th>0</th>\n",
              "      <td>-1.013418</td>\n",
              "      <td>-1.024432</td>\n",
              "      <td>-1.092455</td>\n",
              "      <td>0.006052</td>\n",
              "      <td>0.771178</td>\n",
              "      <td>-0.677074</td>\n",
              "      <td>0.504303</td>\n",
              "      <td>-0.580127</td>\n",
              "      <td>-1.003186</td>\n",
              "      <td>-0.044063</td>\n",
              "      <td>...</td>\n",
              "      <td>0.051787</td>\n",
              "      <td>-0.842565</td>\n",
              "      <td>0.437358</td>\n",
              "      <td>-0.457888</td>\n",
              "      <td>-1.056806</td>\n",
              "      <td>0.499256</td>\n",
              "      <td>0.574846</td>\n",
              "      <td>0.002500</td>\n",
              "      <td>0.428784</td>\n",
              "      <td>0.364549</td>\n",
              "    </tr>\n",
              "    <tr>\n",
              "      <th>1</th>\n",
              "      <td>0.299283</td>\n",
              "      <td>-0.236641</td>\n",
              "      <td>0.792996</td>\n",
              "      <td>-0.536874</td>\n",
              "      <td>-0.384643</td>\n",
              "      <td>-1.104799</td>\n",
              "      <td>-0.180816</td>\n",
              "      <td>-0.188856</td>\n",
              "      <td>0.550774</td>\n",
              "      <td>0.856713</td>\n",
              "      <td>...</td>\n",
              "      <td>-0.835904</td>\n",
              "      <td>0.685923</td>\n",
              "      <td>-0.388408</td>\n",
              "      <td>0.419413</td>\n",
              "      <td>0.215760</td>\n",
              "      <td>-0.553222</td>\n",
              "      <td>-0.587333</td>\n",
              "      <td>-0.245736</td>\n",
              "      <td>-0.039274</td>\n",
              "      <td>-0.544360</td>\n",
              "    </tr>\n",
              "    <tr>\n",
              "      <th>2</th>\n",
              "      <td>-0.417213</td>\n",
              "      <td>-0.283471</td>\n",
              "      <td>0.997733</td>\n",
              "      <td>0.635083</td>\n",
              "      <td>-0.144588</td>\n",
              "      <td>0.764636</td>\n",
              "      <td>0.418080</td>\n",
              "      <td>-0.230693</td>\n",
              "      <td>-0.945212</td>\n",
              "      <td>-0.201572</td>\n",
              "      <td>...</td>\n",
              "      <td>-0.617342</td>\n",
              "      <td>1.014205</td>\n",
              "      <td>-0.264356</td>\n",
              "      <td>-0.669337</td>\n",
              "      <td>0.329096</td>\n",
              "      <td>-0.462891</td>\n",
              "      <td>0.561827</td>\n",
              "      <td>0.519547</td>\n",
              "      <td>0.827816</td>\n",
              "      <td>0.061145</td>\n",
              "    </tr>\n",
              "    <tr>\n",
              "      <th>3</th>\n",
              "      <td>0.167367</td>\n",
              "      <td>-0.784399</td>\n",
              "      <td>-0.256651</td>\n",
              "      <td>-0.368300</td>\n",
              "      <td>-0.624012</td>\n",
              "      <td>-0.687434</td>\n",
              "      <td>-0.357381</td>\n",
              "      <td>0.610047</td>\n",
              "      <td>1.110475</td>\n",
              "      <td>-0.166943</td>\n",
              "      <td>...</td>\n",
              "      <td>0.459548</td>\n",
              "      <td>0.757530</td>\n",
              "      <td>0.435208</td>\n",
              "      <td>0.335344</td>\n",
              "      <td>-0.389736</td>\n",
              "      <td>0.479925</td>\n",
              "      <td>-0.551735</td>\n",
              "      <td>-0.443555</td>\n",
              "      <td>-0.663302</td>\n",
              "      <td>0.139140</td>\n",
              "    </tr>\n",
              "    <tr>\n",
              "      <th>4</th>\n",
              "      <td>-0.260707</td>\n",
              "      <td>0.984643</td>\n",
              "      <td>-0.883904</td>\n",
              "      <td>0.538804</td>\n",
              "      <td>-0.464557</td>\n",
              "      <td>0.692180</td>\n",
              "      <td>-0.616429</td>\n",
              "      <td>0.659086</td>\n",
              "      <td>-0.174336</td>\n",
              "      <td>0.096689</td>\n",
              "      <td>...</td>\n",
              "      <td>-0.131002</td>\n",
              "      <td>-0.595542</td>\n",
              "      <td>0.262602</td>\n",
              "      <td>-0.163738</td>\n",
              "      <td>0.281933</td>\n",
              "      <td>1.058690</td>\n",
              "      <td>0.347689</td>\n",
              "      <td>-0.583178</td>\n",
              "      <td>0.661642</td>\n",
              "      <td>0.185891</td>\n",
              "    </tr>\n",
              "  </tbody>\n",
              "</table>\n",
              "<p>5 rows × 35 columns</p>\n",
              "</div>\n",
              "      <button class=\"colab-df-convert\" onclick=\"convertToInteractive('df-35765f11-08ce-472e-8963-e01762ae0b55')\"\n",
              "              title=\"Convert this dataframe to an interactive table.\"\n",
              "              style=\"display:none;\">\n",
              "        \n",
              "  <svg xmlns=\"http://www.w3.org/2000/svg\" height=\"24px\"viewBox=\"0 0 24 24\"\n",
              "       width=\"24px\">\n",
              "    <path d=\"M0 0h24v24H0V0z\" fill=\"none\"/>\n",
              "    <path d=\"M18.56 5.44l.94 2.06.94-2.06 2.06-.94-2.06-.94-.94-2.06-.94 2.06-2.06.94zm-11 1L8.5 8.5l.94-2.06 2.06-.94-2.06-.94L8.5 2.5l-.94 2.06-2.06.94zm10 10l.94 2.06.94-2.06 2.06-.94-2.06-.94-.94-2.06-.94 2.06-2.06.94z\"/><path d=\"M17.41 7.96l-1.37-1.37c-.4-.4-.92-.59-1.43-.59-.52 0-1.04.2-1.43.59L10.3 9.45l-7.72 7.72c-.78.78-.78 2.05 0 2.83L4 21.41c.39.39.9.59 1.41.59.51 0 1.02-.2 1.41-.59l7.78-7.78 2.81-2.81c.8-.78.8-2.07 0-2.86zM5.41 20L4 18.59l7.72-7.72 1.47 1.35L5.41 20z\"/>\n",
              "  </svg>\n",
              "      </button>\n",
              "      \n",
              "  <style>\n",
              "    .colab-df-container {\n",
              "      display:flex;\n",
              "      flex-wrap:wrap;\n",
              "      gap: 12px;\n",
              "    }\n",
              "\n",
              "    .colab-df-convert {\n",
              "      background-color: #E8F0FE;\n",
              "      border: none;\n",
              "      border-radius: 50%;\n",
              "      cursor: pointer;\n",
              "      display: none;\n",
              "      fill: #1967D2;\n",
              "      height: 32px;\n",
              "      padding: 0 0 0 0;\n",
              "      width: 32px;\n",
              "    }\n",
              "\n",
              "    .colab-df-convert:hover {\n",
              "      background-color: #E2EBFA;\n",
              "      box-shadow: 0px 1px 2px rgba(60, 64, 67, 0.3), 0px 1px 3px 1px rgba(60, 64, 67, 0.15);\n",
              "      fill: #174EA6;\n",
              "    }\n",
              "\n",
              "    [theme=dark] .colab-df-convert {\n",
              "      background-color: #3B4455;\n",
              "      fill: #D2E3FC;\n",
              "    }\n",
              "\n",
              "    [theme=dark] .colab-df-convert:hover {\n",
              "      background-color: #434B5C;\n",
              "      box-shadow: 0px 1px 3px 1px rgba(0, 0, 0, 0.15);\n",
              "      filter: drop-shadow(0px 1px 2px rgba(0, 0, 0, 0.3));\n",
              "      fill: #FFFFFF;\n",
              "    }\n",
              "  </style>\n",
              "\n",
              "      <script>\n",
              "        const buttonEl =\n",
              "          document.querySelector('#df-35765f11-08ce-472e-8963-e01762ae0b55 button.colab-df-convert');\n",
              "        buttonEl.style.display =\n",
              "          google.colab.kernel.accessAllowed ? 'block' : 'none';\n",
              "\n",
              "        async function convertToInteractive(key) {\n",
              "          const element = document.querySelector('#df-35765f11-08ce-472e-8963-e01762ae0b55');\n",
              "          const dataTable =\n",
              "            await google.colab.kernel.invokeFunction('convertToInteractive',\n",
              "                                                     [key], {});\n",
              "          if (!dataTable) return;\n",
              "\n",
              "          const docLinkHtml = 'Like what you see? Visit the ' +\n",
              "            '<a target=\"_blank\" href=https://colab.research.google.com/notebooks/data_table.ipynb>data table notebook</a>'\n",
              "            + ' to learn more about interactive tables.';\n",
              "          element.innerHTML = '';\n",
              "          dataTable['output_type'] = 'display_data';\n",
              "          await google.colab.output.renderOutput(dataTable, element);\n",
              "          const docLink = document.createElement('div');\n",
              "          docLink.innerHTML = docLinkHtml;\n",
              "          element.appendChild(docLink);\n",
              "        }\n",
              "      </script>\n",
              "    </div>\n",
              "  </div>\n",
              "  "
            ]
          },
          "metadata": {},
          "execution_count": 143
        }
      ]
    },
    {
      "cell_type": "markdown",
      "source": [
        "##Plotting some relevant information of the dataset"
      ],
      "metadata": {
        "id": "3lm_oGu8tnuX"
      }
    },
    {
      "cell_type": "code",
      "source": [
        "cont=0\n",
        "for i in range(0,len(y_all)):\n",
        "  if y_all[i] == 0:\n",
        "    cont += 1\n",
        "print(\"Percentage of zero-collision %f\" %(cont/len(y_all)))\n",
        "\n",
        "print(\"Input shape: %s\" %str(X_all.shape))\n",
        "print(\"Output shape: %s\" %str(y_all.shape))\n",
        "print(\"Number of attributes/features: %d\" %(X_all.shape[1]))\n",
        "print(\"Number of classes: %d %s\" %(len(class_names), str(class_names)))\n",
        "print(\"Number of samples: %d\" %(X_all.shape[0]))\n",
        "\n",
        "fig = plt.figure()\n",
        "ax = fig.add_subplot(111)\n",
        "dataset['num_collisions'].value_counts().plot(kind='bar', color = '#1fb46c', alpha=0.75, grid=True)\n",
        "plt.xlabel('Number of collisions')\n",
        "plt.title('Count of collisions')\n",
        "plt.xticks(rotation='horizontal')\n",
        "ax.xaxis.grid(which=\"major\")\n",
        "ax.spines['top'].set_visible(False)\n",
        "ax.spines['right'].set_visible(False)\n",
        "for p in ax.patches:\n",
        "    ax.annotate(np.round(p.get_height(),decimals=2), (p.get_x()+p.get_width()/2., p.get_height()+25), ha='center', va='center')"
      ],
      "metadata": {
        "colab": {
          "base_uri": "https://localhost:8080/",
          "height": 399
        },
        "id": "8ABvYhbCtsyg",
        "outputId": "d9429fcc-b949-4b44-81ef-604b37673d70"
      },
      "execution_count": 128,
      "outputs": [
        {
          "output_type": "stream",
          "name": "stdout",
          "text": [
            "Percentage of zero-collision 0.538000\n",
            "Input shape: (1000, 35)\n",
            "Output shape: (1000,)\n",
            "Number of attributes/features: 35\n",
            "Number of classes: 5 ['0' '1' '2' '3' '4']\n",
            "Number of samples: 1000\n"
          ]
        },
        {
          "output_type": "display_data",
          "data": {
            "text/plain": [
              "<Figure size 432x288 with 1 Axes>"
            ],
            "image/png": "[encoded data removed]"
          },
          "metadata": {
            "needs_background": "light"
          }
        }
      ]
    },
    {
      "cell_type": "markdown",
      "source": [
        "##Dividing hte dataset in Training and Test set and showing how the Test set is composed"
      ],
      "metadata": {
        "id": "nYjEfSy-unUz"
      }
    },
    {
      "cell_type": "code",
      "source": [
        "X_train, X_test, y_train, y_test = train_test_split(X_all, y_all, test_size=0.33, \n",
        "                                                    random_state=1)#0.10, 6 per avere 2 vettori\n",
        "\n",
        "print(\"Training set length: %d \\nTesting set length: %d\" %(X_train.shape[0],X_test.shape[0]))\n",
        "\n",
        "fig = plt.figure()\n",
        "ax = fig.add_subplot(111)\n",
        "#print(y_test)\n",
        "y_test.value_counts().plot(kind='bar', color = '#1fb46c', alpha=0.75, grid=True)\n",
        "plt.xlabel('Number of collisions')\n",
        "plt.title('Count of collisions in the Test set')\n",
        "plt.xticks(rotation='horizontal')\n",
        "ax.xaxis.grid(which=\"major\")\n",
        "ax.spines['top'].set_visible(False)\n",
        "ax.spines['right'].set_visible(False)\n",
        "for p in ax.patches:\n",
        "    ax.annotate(np.round(p.get_height(),decimals=2), (p.get_x()+p.get_width()/2., p.get_height()+5), ha='center', va='center')"
      ],
      "metadata": {
        "colab": {
          "base_uri": "https://localhost:8080/",
          "height": 330
        },
        "id": "2jhOdhlJunDt",
        "outputId": "71a577b3-b8d9-490a-97a0-3dc3dae98744"
      },
      "execution_count": 250,
      "outputs": [
        {
          "output_type": "stream",
          "name": "stdout",
          "text": [
            "Training set length: 670 \n",
            "Testing set length: 330\n"
          ]
        },
        {
          "output_type": "display_data",
          "data": {
            "text/plain": [
              "<Figure size 432x288 with 1 Axes>"
            ],
            "image/png": "[encoded data removed]"
          },
          "metadata": {
            "needs_background": "light"
          }
        }
      ]
    },
    {
      "cell_type": "markdown",
      "source": [
        "##Code to see if is linearly indipendent"
      ],
      "metadata": {
        "id": "A_Jh7JYMAbqk"
      }
    },
    {
      "cell_type": "code",
      "source": [
        "model= svm.SVC(kernel='linear',C=2^32,gamma='auto', degree=3, decision_function_shape='ovo', class_weight='balanced')\n",
        "model.fit(X_all,y_all)\n",
        "y_pred=model.predict(X_all)\n",
        "acc = model.score(X_all, y_all)    \n",
        "print(\"Accuracy %.3f\" %acc) #0.337\n",
        "print(classification_report(y_all, y_pred, labels=None, target_names=class_names, digits=3))\n",
        "from sklearn.metrics import plot_confusion_matrix\n",
        "titles_options = [(\"Normalized confusion matrix\",\"true\")]\n",
        "for title, normalize in titles_options:\n",
        "    disp = plot_confusion_matrix(model, X_all, y_all,\n",
        "                                 cmap=plt.cm.Greens,\n",
        "                                 normalize=normalize)\n",
        "    disp.ax_.set_title(title)\n",
        "plt.show()"
      ],
      "metadata": {
        "colab": {
          "base_uri": "https://localhost:8080/",
          "height": 575
        },
        "id": "yJyaezW6n6G8",
        "outputId": "e71d01a2-5d95-4e57-ca73-4aa49c5b53df"
      },
      "execution_count": 19,
      "outputs": [
        {
          "output_type": "stream",
          "name": "stdout",
          "text": [
            "Accuracy 0.361\n",
            "              precision    recall  f1-score   support\n",
            "\n",
            "           0      0.649     0.327     0.435       538\n",
            "           1      0.459     0.318     0.376       333\n",
            "           2      0.214     0.562     0.310        96\n",
            "           3      0.092     0.733     0.163        30\n",
            "           4      0.500     1.000     0.667         3\n",
            "\n",
            "    accuracy                          0.361      1000\n",
            "   macro avg      0.383     0.588     0.390      1000\n",
            "weighted avg      0.527     0.361     0.396      1000\n",
            "\n"
          ]
        },
        {
          "output_type": "stream",
          "name": "stderr",
          "text": [
            "/usr/local/lib/python3.8/dist-packages/sklearn/utils/deprecation.py:87: FutureWarning: Function plot_confusion_matrix is deprecated; Function `plot_confusion_matrix` is deprecated in 1.0 and will be removed in 1.2. Use one of the class methods: ConfusionMatrixDisplay.from_predictions or ConfusionMatrixDisplay.from_estimator.\n",
            "  warnings.warn(msg, category=FutureWarning)\n"
          ]
        },
        {
          "output_type": "display_data",
          "data": {
            "text/plain": [
              "<Figure size 432x288 with 2 Axes>"
            ],
            "image/png": "[encoded data removed]"
          },
          "metadata": {
            "needs_background": "light"
          }
        }
      ]
    },
    {
      "cell_type": "markdown",
      "source": [
        "##Creating the model and fitting it (SVC)"
      ],
      "metadata": {
        "id": "Z5GUOeUkv7i4"
      }
    },
    {
      "cell_type": "code",
      "source": [
        "model = svm.SVC(kernel='poly', C=2.2,degree=3, gamma='scale')\n",
        "model.fit(X_train, y_train)\n",
        "print(len(model.support_vectors_))"
      ],
      "metadata": {
        "colab": {
          "base_uri": "https://localhost:8080/"
        },
        "id": "Upmv9IFWv6lX",
        "outputId": "f8b79009-8585-4e97-c769-3523c6d0b1b8"
      },
      "execution_count": 177,
      "outputs": [
        {
          "output_type": "stream",
          "name": "stdout",
          "text": [
            "[358 222  61  19   2]\n",
            "662\n"
          ]
        }
      ]
    },
    {
      "cell_type": "markdown",
      "source": [
        "##Creating the Model and fitting it (Logistic regression)"
      ],
      "metadata": {
        "id": "nQqBETZRMJsF"
      }
    },
    {
      "cell_type": "code",
      "source": [
        "model=LogisticRegression(solver='newton-cg',\n",
        "                         class_weight={0:0.2,#se ci metto 0.2 funziona meglio\n",
        "                                                           1:0.3,\n",
        "                                                           2:1,\n",
        "                                                           3:1,\n",
        "                                                           4:1},\n",
        "                          C=2, penalty='l2',max_iter=100)\n",
        "model.fit(X_train,y_train)"
      ],
      "metadata": {
        "colab": {
          "base_uri": "https://localhost:8080/"
        },
        "id": "MvCZaUD8MGSF",
        "outputId": "3b3dca5e-66ba-4577-a466-641445425c17"
      },
      "execution_count": 245,
      "outputs": [
        {
          "output_type": "execute_result",
          "data": {
            "text/plain": [
              "LogisticRegression(C=2, class_weight={0: 0.2, 1: 0.3, 2: 1, 3: 1, 4: 1},\n",
              "                   solver='newton-cg')"
            ]
          },
          "metadata": {},
          "execution_count": 245
        }
      ]
    },
    {
      "cell_type": "markdown",
      "source": [
        "##Lines of code to evaluate how the accuracy is in the training set"
      ],
      "metadata": {
        "id": "-pgL6yMaFrhW"
      }
    },
    {
      "cell_type": "code",
      "source": [
        "y_pred=model.predict(X_train)\n",
        "acc = model.score(X_train, y_train)    \n",
        "print(\"Accuracy %.3f\" %acc)"
      ],
      "metadata": {
        "colab": {
          "base_uri": "https://localhost:8080/"
        },
        "id": "BE22pAgfFnse",
        "outputId": "284e6f65-4ff8-49e4-8333-34fa0ea54736"
      },
      "execution_count": 246,
      "outputs": [
        {
          "output_type": "stream",
          "name": "stdout",
          "text": [
            "Accuracy 0.479\n"
          ]
        }
      ]
    },
    {
      "cell_type": "markdown",
      "source": [
        "##Predicting the value on the Test Set and showing some metrics"
      ],
      "metadata": {
        "id": "QRO-2ugMxSIN"
      }
    },
    {
      "cell_type": "code",
      "source": [
        "y_pred = model.predict(X_test)\n",
        "print(classification_report(y_test, y_pred, labels=None, target_names=class_names, digits=3))"
      ],
      "metadata": {
        "colab": {
          "base_uri": "https://localhost:8080/"
        },
        "id": "G0YRdedGwXq8",
        "outputId": "066359af-cc62-4dac-a95b-875c7bc0c19a"
      },
      "execution_count": 247,
      "outputs": [
        {
          "output_type": "stream",
          "name": "stdout",
          "text": [
            "              precision    recall  f1-score   support\n",
            "\n",
            "           0      0.540     0.471     0.503       172\n",
            "           1      0.312     0.216     0.255       111\n",
            "           2      0.168     0.486     0.250        35\n",
            "           3      0.000     0.000     0.000        11\n",
            "           4      0.000     0.000     0.000         1\n",
            "\n",
            "    accuracy                          0.370       330\n",
            "   macro avg      0.204     0.235     0.202       330\n",
            "weighted avg      0.404     0.370     0.375       330\n",
            "\n"
          ]
        },
        {
          "output_type": "stream",
          "name": "stderr",
          "text": [
            "/usr/local/lib/python3.8/dist-packages/sklearn/metrics/_classification.py:1318: UndefinedMetricWarning: Precision and F-score are ill-defined and being set to 0.0 in labels with no predicted samples. Use `zero_division` parameter to control this behavior.\n",
            "  _warn_prf(average, modifier, msg_start, len(result))\n",
            "/usr/local/lib/python3.8/dist-packages/sklearn/metrics/_classification.py:1318: UndefinedMetricWarning: Precision and F-score are ill-defined and being set to 0.0 in labels with no predicted samples. Use `zero_division` parameter to control this behavior.\n",
            "  _warn_prf(average, modifier, msg_start, len(result))\n",
            "/usr/local/lib/python3.8/dist-packages/sklearn/metrics/_classification.py:1318: UndefinedMetricWarning: Precision and F-score are ill-defined and being set to 0.0 in labels with no predicted samples. Use `zero_division` parameter to control this behavior.\n",
            "  _warn_prf(average, modifier, msg_start, len(result))\n"
          ]
        }
      ]
    },
    {
      "cell_type": "markdown",
      "source": [
        "##Plotting Confusion Matrix"
      ],
      "metadata": {
        "id": "tCS_MSIGxLqS"
      }
    },
    {
      "cell_type": "code",
      "source": [
        "from sklearn.metrics import plot_confusion_matrix\n",
        "titles_options = [(\"Normalized confusion matrix\",\"true\")]\n",
        "for title, normalize in titles_options:\n",
        "    disp = plot_confusion_matrix(model, X_test, y_test,\n",
        "                                 cmap=plt.cm.Greens,\n",
        "                                 normalize=normalize)\n",
        "    disp.ax_.set_title(title)\n",
        "plt.show()"
      ],
      "metadata": {
        "colab": {
          "base_uri": "https://localhost:8080/",
          "height": 350
        },
        "id": "G12va8ndw3_Z",
        "outputId": "13e3f6be-ec86-400d-8321-ab9c51a8ca07"
      },
      "execution_count": 248,
      "outputs": [
        {
          "output_type": "stream",
          "name": "stderr",
          "text": [
            "/usr/local/lib/python3.8/dist-packages/sklearn/utils/deprecation.py:87: FutureWarning: Function plot_confusion_matrix is deprecated; Function `plot_confusion_matrix` is deprecated in 1.0 and will be removed in 1.2. Use one of the class methods: ConfusionMatrixDisplay.from_predictions or ConfusionMatrixDisplay.from_estimator.\n",
            "  warnings.warn(msg, category=FutureWarning)\n"
          ]
        },
        {
          "output_type": "display_data",
          "data": {
            "text/plain": [
              "<Figure size 432x288 with 2 Axes>"
            ],
            "image/png": "[encoded data removed]"
          },
          "metadata": {
            "needs_background": "light"
          }
        }
      ]
    },
    {
      "cell_type": "markdown",
      "source": [
        "##Using grid serach to find the best solution for LogisticRegression"
      ],
      "metadata": {
        "id": "0HJMH6Rrx0lB"
      }
    },
    {
      "cell_type": "code",
      "source": [
        "scoring = {\"f1_weighted\": \"f1_weighted\", \"accuracy\": \"accuracy\"}\n",
        "#The first parameter is the model\n",
        "grid_search_classification = GridSearchCV(model,\n",
        "                          # Here you can choose the parameters that you want to fit in the gridsearch.\n",
        "                          # In this case the gridsearch will find the best combination between 'C' and 'kernel'\n",
        "                           {\n",
        "                            'C':np.arange(0.1,3,0.1),\n",
        "                            \n",
        "                            #'max_iter':np.arange(10,110,10), \n",
        "                            #'solver':('newton-cg', 'lbfgs', 'liblinear', 'sag', 'saga'),                           \n",
        "                            },cv=2, scoring=\"accuracy\",verbose=1,n_jobs=-1\n",
        "                           )\n",
        "print(\"Grid Search for Classification\\n\\n\")\n",
        "print(grid_search_classification.fit(X_train,y_train))\n",
        "\n",
        "\n",
        "print(\"Best classification hyper-parameters: %r\" %grid_search_classification.best_params_)\n",
        "print(grid_search_classification)\n",
        "print(\"Best parameter %.2f\" %grid_search_classification.best_score_)"
      ],
      "metadata": {
        "colab": {
          "base_uri": "https://localhost:8080/"
        },
        "id": "saW0AZjDxCCC",
        "outputId": "a8aa3a99-a2ec-4d36-8115-ca7631182b89"
      },
      "execution_count": 225,
      "outputs": [
        {
          "output_type": "stream",
          "name": "stdout",
          "text": [
            "Grid Search for Classification\n",
            "\n",
            "\n",
            "Fitting 2 folds for each of 29 candidates, totalling 58 fits\n",
            "GridSearchCV(cv=2,\n",
            "             estimator=LogisticRegression(C=2, class_weight='balanced',\n",
            "                                          solver='newton-cg'),\n",
            "             n_jobs=-1,\n",
            "             param_grid={'C': array([0.1, 0.2, 0.3, 0.4, 0.5, 0.6, 0.7, 0.8, 0.9, 1. , 1.1, 1.2, 1.3,\n",
            "       1.4, 1.5, 1.6, 1.7, 1.8, 1.9, 2. , 2.1, 2.2, 2.3, 2.4, 2.5, 2.6,\n",
            "       2.7, 2.8, 2.9])},\n",
            "             scoring='accuracy', verbose=1)\n",
            "Best classification hyper-parameters: {'C': 2.7}\n",
            "GridSearchCV(cv=2,\n",
            "             estimator=LogisticRegression(C=2, class_weight='balanced',\n",
            "                                          solver='newton-cg'),\n",
            "             n_jobs=-1,\n",
            "             param_grid={'C': array([0.1, 0.2, 0.3, 0.4, 0.5, 0.6, 0.7, 0.8, 0.9, 1. , 1.1, 1.2, 1.3,\n",
            "       1.4, 1.5, 1.6, 1.7, 1.8, 1.9, 2. , 2.1, 2.2, 2.3, 2.4, 2.5, 2.6,\n",
            "       2.7, 2.8, 2.9])},\n",
            "             scoring='accuracy', verbose=1)\n",
            "Best parameter 0.22\n"
          ]
        }
      ]
    },
    {
      "cell_type": "markdown",
      "source": [
        "##Showing the metrics of new solution mesured through Grid_Search"
      ],
      "metadata": {
        "id": "X1APRqwYneQ1"
      }
    },
    {
      "cell_type": "code",
      "source": [
        "y_pred = grid_search_classification.predict(X_test)\n",
        "print(classification_report(y_test, y_pred, labels=None, target_names=class_names, digits=3))\n",
        "from sklearn.metrics import plot_confusion_matrix\n",
        "titles_options = [(\"Normalized confusion matrix\",\"true\")]\n",
        "for title, normalize in titles_options:\n",
        "    disp = plot_confusion_matrix(grid_search_classification, X_test, y_test,\n",
        "                                 cmap=plt.cm.Greens,\n",
        "                                 normalize=normalize)\n",
        "    disp.ax_.set_title(title)\n",
        "plt.show()"
      ],
      "metadata": {
        "colab": {
          "base_uri": "https://localhost:8080/",
          "height": 558
        },
        "id": "cRfwlM_LnYn2",
        "outputId": "27f5d8f2-8991-4f16-8893-8b30309e40a6"
      },
      "execution_count": 226,
      "outputs": [
        {
          "output_type": "stream",
          "name": "stdout",
          "text": [
            "              precision    recall  f1-score   support\n",
            "\n",
            "           0      0.508     0.180     0.266       172\n",
            "           1      0.289     0.216     0.247       111\n",
            "           2      0.147     0.400     0.215        35\n",
            "           3      0.012     0.091     0.021        11\n",
            "           4      0.000     0.000     0.000         1\n",
            "\n",
            "    accuracy                          0.212       330\n",
            "   macro avg      0.191     0.177     0.150       330\n",
            "weighted avg      0.378     0.212     0.245       330\n",
            "\n"
          ]
        },
        {
          "output_type": "stream",
          "name": "stderr",
          "text": [
            "/usr/local/lib/python3.8/dist-packages/sklearn/utils/deprecation.py:87: FutureWarning: Function plot_confusion_matrix is deprecated; Function `plot_confusion_matrix` is deprecated in 1.0 and will be removed in 1.2. Use one of the class methods: ConfusionMatrixDisplay.from_predictions or ConfusionMatrixDisplay.from_estimator.\n",
            "  warnings.warn(msg, category=FutureWarning)\n"
          ]
        },
        {
          "output_type": "display_data",
          "data": {
            "text/plain": [
              "<Figure size 432x288 with 2 Axes>"
            ],
            "image/png": "[encoded data removed]"
          },
          "metadata": {
            "needs_background": "light"
          }
        }
      ]
    },
    {
      "cell_type": "markdown",
      "source": [
        "max_accuracy=0\n",
        "for i in np.arange(0.1, 0.5, 0.1) :\n",
        "  for j in np.arange(0.1, 0.5, 0.1) :\n",
        "    for k in np.arange(0.1, 0.5, 0.1) :\n",
        "      for l in np.arange(0.1, 0.5, 0.1) :\n",
        "        for m in np.arange(0.1, 0.5, 0.1) :\n",
        "          model=LogisticRegression(solver='newton-cg', class_weight={0:i,\n",
        "                                                           1:j,\n",
        "                                                           2:k,\n",
        "                                                           3:l,\n",
        "                                                           4:m},\n",
        "                          C=1.5000000000000002, penalty='l2',max_iter=100)\n",
        "          model.fit(X_train,y_train)\n",
        "          model.predict(X_test)\n",
        "          acc = model.score(X_test, y_test)\n",
        "          if acc>max_accuracy:\n",
        "            max_accuracy=acc\n",
        "            I=i\n",
        "            J=j\n",
        "            K=k\n",
        "            L=l\n",
        "            M=m\n",
        "print(max_accuracy)\n",
        "print(I)\n",
        "print(J)\n",
        "print(K)\n",
        "print(L)\n",
        "print(M)"
      ],
      "metadata": {
        "id": "CwNmkM6wCKxJ"
      }
    },
    {
      "cell_type": "markdown",
      "source": [
        "##GridSearch for SVC"
      ],
      "metadata": {
        "id": "Z1zIwyQ-OfdO"
      }
    },
    {
      "cell_type": "code",
      "source": [
        "grid_search_classification = GridSearchCV(model,\n",
        "                          # Here you can choose the parameters that you want to fit in the gridsearch.\n",
        "                          # In this case the gridsearch will find the best combination between 'C' and 'kernel'\n",
        "                           {\n",
        "                               #'C':(1,10,100),\n",
        "                              'C':np.arange(0.1,2,0.1),                            \n",
        "                            'kernel': ('linear', 'rbf','poly','sigmoid'),\n",
        "                            #If the kernel is poly (above line commented), you can also choose the best degree\n",
        "                            #Otherwise keep commented\n",
        "                            'degree': np.arange(1,4,1),\n",
        "                            },cv=2, scoring=\"f1_weighted\",verbose=1,n_jobs=-1\n",
        "                           )\n",
        "print(\"Grid Search for Classification\\n\\n\")\n",
        "print(grid_search_classification.fit(X_train,y_train))\n",
        "\n",
        "\n",
        "print()\n",
        "print(\"Best classification hyper-parameters: %r\" %grid_search_classification.best_params_)\n",
        "print(grid_search_classification.n_splits_)\n",
        "print(\"Best parameter: %.2f\" %grid_search_classification.best_score_)"
      ],
      "metadata": {
        "colab": {
          "base_uri": "https://localhost:8080/"
        },
        "id": "QU6QT7ItOfoC",
        "outputId": "bc6c9c20-3784-4a59-b683-30060790f76e"
      },
      "execution_count": 181,
      "outputs": [
        {
          "output_type": "stream",
          "name": "stdout",
          "text": [
            "Grid Search for Classification\n",
            "\n",
            "\n",
            "Fitting 2 folds for each of 228 candidates, totalling 456 fits\n",
            "GridSearchCV(cv=2, estimator=SVC(C=2.2, kernel='poly'), n_jobs=-1,\n",
            "             param_grid={'C': array([0.1, 0.2, 0.3, 0.4, 0.5, 0.6, 0.7, 0.8, 0.9, 1. , 1.1, 1.2, 1.3,\n",
            "       1.4, 1.5, 1.6, 1.7, 1.8, 1.9]),\n",
            "                         'degree': array([1, 2, 3]),\n",
            "                         'kernel': ('linear', 'rbf', 'poly', 'sigmoid')},\n",
            "             scoring='f1_weighted', verbose=1)\n",
            "\n",
            "Best classification hyper-parameters: {'C': 1.4000000000000001, 'degree': 3, 'kernel': 'poly'}\n",
            "2\n",
            "Best parameter: 0.46\n"
          ]
        }
      ]
    },
    {
      "cell_type": "markdown",
      "source": [
        "##Showing the metrics of new solution mesured through Grid_Search"
      ],
      "metadata": {
        "id": "wU_RKwRtrtHP"
      }
    },
    {
      "cell_type": "code",
      "source": [
        "y_pred = grid_search_classification.predict(X_test)\n",
        "print(classification_report(y_test, y_pred, labels=None, target_names=class_names, digits=3))\n",
        "from sklearn.metrics import plot_confusion_matrix\n",
        "titles_options = [(\"Normalized confusion matrix\",\"true\")]\n",
        "for title, normalize in titles_options:\n",
        "    disp = plot_confusion_matrix(grid_search_classification, X_test, y_test,\n",
        "                                 cmap=plt.cm.Greens,\n",
        "                                 normalize=normalize)\n",
        "    disp.ax_.set_title(title)\n",
        "plt.show()"
      ],
      "metadata": {
        "colab": {
          "base_uri": "https://localhost:8080/",
          "height": 662
        },
        "outputId": "3ba3b659-83e2-4f40-8fdb-1394c671d578",
        "id": "7NYS5CpGrtHQ"
      },
      "execution_count": 182,
      "outputs": [
        {
          "output_type": "stream",
          "name": "stdout",
          "text": [
            "              precision    recall  f1-score   support\n",
            "\n",
            "           0      0.523     0.808     0.635       172\n",
            "           1      0.306     0.171     0.220       111\n",
            "           2      0.000     0.000     0.000        35\n",
            "           3      0.000     0.000     0.000        11\n",
            "           4      0.000     0.000     0.000         1\n",
            "\n",
            "    accuracy                          0.479       330\n",
            "   macro avg      0.166     0.196     0.171       330\n",
            "weighted avg      0.375     0.479     0.405       330\n",
            "\n"
          ]
        },
        {
          "output_type": "stream",
          "name": "stderr",
          "text": [
            "/usr/local/lib/python3.8/dist-packages/sklearn/metrics/_classification.py:1318: UndefinedMetricWarning: Precision and F-score are ill-defined and being set to 0.0 in labels with no predicted samples. Use `zero_division` parameter to control this behavior.\n",
            "  _warn_prf(average, modifier, msg_start, len(result))\n",
            "/usr/local/lib/python3.8/dist-packages/sklearn/metrics/_classification.py:1318: UndefinedMetricWarning: Precision and F-score are ill-defined and being set to 0.0 in labels with no predicted samples. Use `zero_division` parameter to control this behavior.\n",
            "  _warn_prf(average, modifier, msg_start, len(result))\n",
            "/usr/local/lib/python3.8/dist-packages/sklearn/metrics/_classification.py:1318: UndefinedMetricWarning: Precision and F-score are ill-defined and being set to 0.0 in labels with no predicted samples. Use `zero_division` parameter to control this behavior.\n",
            "  _warn_prf(average, modifier, msg_start, len(result))\n",
            "/usr/local/lib/python3.8/dist-packages/sklearn/utils/deprecation.py:87: FutureWarning: Function plot_confusion_matrix is deprecated; Function `plot_confusion_matrix` is deprecated in 1.0 and will be removed in 1.2. Use one of the class methods: ConfusionMatrixDisplay.from_predictions or ConfusionMatrixDisplay.from_estimator.\n",
            "  warnings.warn(msg, category=FutureWarning)\n"
          ]
        },
        {
          "output_type": "display_data",
          "data": {
            "text/plain": [
              "<Figure size 432x288 with 2 Axes>"
            ],
            "image/png": "[encoded data removed]"
          },
          "metadata": {
            "needs_background": "light"
          }
        }
      ]
    },
    {
      "cell_type": "markdown",
      "source": [
        "##Boosting"
      ],
      "metadata": {
        "id": "CUoXs4MJesJy"
      }
    },
    {
      "cell_type": "code",
      "source": [
        "# Ensemble classifier parameters\n",
        "n_estimators = [1,2,3]\n",
        "classifier_name = 'S'\n",
        "\n",
        "all_classifiers = {\n",
        "    'L': [LogisticRegression, 'Logistic Regression'],\n",
        "    'S': [svm.SVC, 'SVM']\n",
        "    }\n",
        "\n",
        "algorithm = 'SAMME' if classifier_name == 'S' else 'SAMME.R'\n",
        "# Boosting parameters\n",
        "boosting_params = {\n",
        "  'learning_rate': np.random.uniform(size=5),\n",
        "  'n_estimators': n_estimators,\n",
        "  }\n",
        "print(f\"Boosting parameters:  {boosting_params}\")\n",
        "\n",
        "adaboost_classifier = AdaBoostClassifier(\n",
        "    base_estimator=all_classifiers[classifier_name][0](), \n",
        "    n_estimators=3, \n",
        "    learning_rate=1.0, \n",
        "    algorithm= algorithm,\n",
        "    random_state=1\n",
        "    ).fit(X_train, y_train)\n",
        "y_pred=adaboost_classifier.predict(X_test)\n",
        "print(classification_report(y_test, y_pred, labels=None, target_names=class_names, digits=3))\n",
        "\n",
        "\n",
        "cv = KFold(n_splits=2, shuffle=True, random_state=1)\n",
        "grid_search_boosting = GridSearchCV(\n",
        "    adaboost_classifier,\n",
        "    boosting_params, \n",
        "    scoring='f1_weighted', \n",
        "    cv=cv, \n",
        "    return_train_score=False,\n",
        "    verbose=0,\n",
        "    refit=True\n",
        ")\n",
        "grid_search_boosting.fit(X_train, y_train)\n",
        "#Best parameters for the classifier\n",
        "print(\"Best classification hyper-parameters for boosting classifier: %r\" %grid_search_boosting.best_params_)\n",
        "print(\"Best accuracy: %.4f\" %grid_search_boosting.best_score_)"
      ],
      "metadata": {
        "colab": {
          "base_uri": "https://localhost:8080/"
        },
        "id": "cpAVtwR4esTa",
        "outputId": "d0178b79-fb14-41ca-c1a8-0cbcc89ceca3"
      },
      "execution_count": 274,
      "outputs": [
        {
          "output_type": "stream",
          "name": "stdout",
          "text": [
            "Boosting parameters:  {'learning_rate': array([0.44246513, 0.11438052, 0.31014191, 0.86900831, 0.96579997]), 'n_estimators': [1, 2, 3]}\n"
          ]
        },
        {
          "output_type": "stream",
          "name": "stderr",
          "text": [
            "/usr/local/lib/python3.8/dist-packages/sklearn/metrics/_classification.py:1318: UndefinedMetricWarning: Precision and F-score are ill-defined and being set to 0.0 in labels with no predicted samples. Use `zero_division` parameter to control this behavior.\n",
            "  _warn_prf(average, modifier, msg_start, len(result))\n",
            "/usr/local/lib/python3.8/dist-packages/sklearn/metrics/_classification.py:1318: UndefinedMetricWarning: Precision and F-score are ill-defined and being set to 0.0 in labels with no predicted samples. Use `zero_division` parameter to control this behavior.\n",
            "  _warn_prf(average, modifier, msg_start, len(result))\n",
            "/usr/local/lib/python3.8/dist-packages/sklearn/metrics/_classification.py:1318: UndefinedMetricWarning: Precision and F-score are ill-defined and being set to 0.0 in labels with no predicted samples. Use `zero_division` parameter to control this behavior.\n",
            "  _warn_prf(average, modifier, msg_start, len(result))\n"
          ]
        },
        {
          "output_type": "stream",
          "name": "stdout",
          "text": [
            "              precision    recall  f1-score   support\n",
            "\n",
            "           0      0.521     1.000     0.685       172\n",
            "           1      0.000     0.000     0.000       111\n",
            "           2      0.000     0.000     0.000        35\n",
            "           3      0.000     0.000     0.000        11\n",
            "           4      0.000     0.000     0.000         1\n",
            "\n",
            "    accuracy                          0.521       330\n",
            "   macro avg      0.104     0.200     0.137       330\n",
            "weighted avg      0.272     0.521     0.357       330\n",
            "\n",
            "Best classification hyper-parameters for boosting classifier: {'learning_rate': 0.4424651256445562, 'n_estimators': 1}\n",
            "Best accuracy: 0.3861\n"
          ]
        }
      ]
    },
    {
      "cell_type": "code",
      "source": [
        "print(\"Boosting Accuracy over the test set: %.4f\" %grid_search_boosting.score(X_test, y_test))\n",
        "y_pred = grid_search_boosting.predict(X_test)\n",
        "print(classification_report(y_test, y_pred, labels=None, target_names=class_names, digits=3))\n",
        "from sklearn.metrics import plot_confusion_matrix\n",
        "titles_options = [(\"Normalized confusion matrix\",\"true\")]\n",
        "\n",
        "for title, normalize in titles_options:\n",
        "    disp = plot_confusion_matrix(grid_search_boosting, X_test, y_test,\n",
        "                                 cmap=plt.cm.Greens,\n",
        "                                 normalize=normalize)\n",
        "    disp.ax_.set_title(title)\n",
        "plt.show()"
      ],
      "metadata": {
        "colab": {
          "base_uri": "https://localhost:8080/",
          "height": 0
        },
        "id": "kVL6bi9-hCv0",
        "outputId": "41d47e6c-61f3-402b-c95a-a48146028dac"
      },
      "execution_count": 275,
      "outputs": [
        {
          "output_type": "stream",
          "name": "stdout",
          "text": [
            "Boosting Accuracy over the test set: 0.3572\n",
            "              precision    recall  f1-score   support\n",
            "\n",
            "           0      0.521     1.000     0.685       172\n",
            "           1      0.000     0.000     0.000       111\n",
            "           2      0.000     0.000     0.000        35\n",
            "           3      0.000     0.000     0.000        11\n",
            "           4      0.000     0.000     0.000         1\n",
            "\n",
            "    accuracy                          0.521       330\n",
            "   macro avg      0.104     0.200     0.137       330\n",
            "weighted avg      0.272     0.521     0.357       330\n",
            "\n"
          ]
        },
        {
          "output_type": "stream",
          "name": "stderr",
          "text": [
            "/usr/local/lib/python3.8/dist-packages/sklearn/metrics/_classification.py:1318: UndefinedMetricWarning: Precision and F-score are ill-defined and being set to 0.0 in labels with no predicted samples. Use `zero_division` parameter to control this behavior.\n",
            "  _warn_prf(average, modifier, msg_start, len(result))\n",
            "/usr/local/lib/python3.8/dist-packages/sklearn/metrics/_classification.py:1318: UndefinedMetricWarning: Precision and F-score are ill-defined and being set to 0.0 in labels with no predicted samples. Use `zero_division` parameter to control this behavior.\n",
            "  _warn_prf(average, modifier, msg_start, len(result))\n",
            "/usr/local/lib/python3.8/dist-packages/sklearn/metrics/_classification.py:1318: UndefinedMetricWarning: Precision and F-score are ill-defined and being set to 0.0 in labels with no predicted samples. Use `zero_division` parameter to control this behavior.\n",
            "  _warn_prf(average, modifier, msg_start, len(result))\n",
            "/usr/local/lib/python3.8/dist-packages/sklearn/utils/deprecation.py:87: FutureWarning: Function plot_confusion_matrix is deprecated; Function `plot_confusion_matrix` is deprecated in 1.0 and will be removed in 1.2. Use one of the class methods: ConfusionMatrixDisplay.from_predictions or ConfusionMatrixDisplay.from_estimator.\n",
            "  warnings.warn(msg, category=FutureWarning)\n"
          ]
        },
        {
          "output_type": "display_data",
          "data": {
            "text/plain": [
              "<Figure size 432x288 with 2 Axes>"
            ],
            "image/png": "[encoded data removed]"
          },
          "metadata": {
            "needs_background": "light"
          }
        }
      ]
    }
  ]
}