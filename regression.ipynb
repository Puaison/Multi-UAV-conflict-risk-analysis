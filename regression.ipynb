{
  "nbformat": 4,
  "nbformat_minor": 0,
  "metadata": {
    "colab": {
      "provenance": []
    },
    "kernelspec": {
      "name": "python3",
      "display_name": "Python 3"
    },
    "language_info": {
      "name": "python"
    }
  },
  "cells": [
    {
      "cell_type": "markdown",
      "source": [
        "##Importing Libraries"
      ],
      "metadata": {
        "id": "TLYA3ZZl1st5"
      }
    },
    {
      "cell_type": "code",
      "execution_count": 77,
      "metadata": {
        "colab": {
          "base_uri": "https://localhost:8080/"
        },
        "id": "qkq-0Bt5W4hl",
        "outputId": "a7bf0b51-b342-4c9e-b77e-cd6af97b59a0"
      },
      "outputs": [
        {
          "output_type": "stream",
          "name": "stdout",
          "text": [
            "Libraries imported.\n"
          ]
        }
      ],
      "source": [
        "import random\n",
        "import numpy as np\n",
        "import pandas as pd\n",
        "from sklearn import preprocessing, linear_model, metrics\n",
        "from sklearn.metrics import mean_squared_error, r2_score\n",
        "from sklearn.model_selection import train_test_split, cross_val_score, ShuffleSplit, GridSearchCV, RepeatedStratifiedKFold\n",
        "#from sklearn import svm\n",
        "from sklearn.svm import SVR\n",
        "from sklearn import tree\n",
        "from sklearn.naive_bayes import *\n",
        "from sklearn.linear_model import LogisticRegression\n",
        "from sklearn.metrics import classification_report, confusion_matrix\n",
        "from sklearn.utils.multiclass import unique_labels\n",
        "import matplotlib.pyplot as plt\n",
        "print(\"Libraries imported.\")"
      ]
    },
    {
      "cell_type": "markdown",
      "source": [
        "##Loading the dataset"
      ],
      "metadata": {
        "id": "9b0gKw-vIatP"
      }
    },
    {
      "cell_type": "code",
      "source": [
        "from google.colab import drive\n",
        "drive.mount('/content/drive')\n",
        "filename = '/content/drive/My Drive/train_set.tsv'\n",
        "dataset = pd.read_csv(filename, sep='\\t', header=0)"
      ],
      "metadata": {
        "colab": {
          "base_uri": "https://localhost:8080/"
        },
        "id": "dAQC1eG3IeKT",
        "outputId": "02330532-e0cd-449d-8018-dacca9a80990"
      },
      "execution_count": 78,
      "outputs": [
        {
          "output_type": "stream",
          "name": "stdout",
          "text": [
            "Drive already mounted at /content/drive; to attempt to forcibly remount, call drive.mount(\"/content/drive\", force_remount=True).\n"
          ]
        }
      ]
    },
    {
      "cell_type": "markdown",
      "source": [
        "##Normalizing between 0 and 1"
      ],
      "metadata": {
        "id": "oBglI65oIfgn"
      }
    },
    {
      "cell_type": "code",
      "source": [
        "scaler = preprocessing.MinMaxScaler()#tra 0 e 1\n",
        "d = scaler.fit_transform(dataset)\n",
        "names = dataset.columns\n",
        "scaled_df = pd.DataFrame(d,columns=names)\n",
        "X_all = scaled_df.iloc[:,:-1]\n",
        "y_all = scaled_df.iloc[:,-1]\n",
        "X_all.head()"
      ],
      "metadata": {
        "colab": {
          "base_uri": "https://localhost:8080/",
          "height": 300
        },
        "id": "WLardrirW6iU",
        "outputId": "9217cf59-9b09-4f66-e5a8-eaf9e4346155"
      },
      "execution_count": 90,
      "outputs": [
        {
          "output_type": "execute_result",
          "data": {
            "text/plain": [
              "   UAV_1_track   UAV_1_x   UAV_1_y  UAV_1_vx  UAV_1_vy  UAV_1_target_x  \\\n",
              "0     0.003575  0.167803  0.161493  0.508819  0.985962        0.202369   \n",
              "1     0.640368  0.422673  0.741763  0.165028  0.229878        0.010242   \n",
              "2     0.292795  0.407523  0.804773  0.907133  0.386911        0.849959   \n",
              "3     0.576375  0.245460  0.418722  0.271772  0.073294        0.197715   \n",
              "4     0.368716  0.817790  0.225677  0.846167  0.177602        0.817414   \n",
              "\n",
              "   UAV_1_target_y  UAV_2_track   UAV_2_x   UAV_2_y  ...  UAV_4_target_x  \\\n",
              "0        0.721751     0.234008  0.174139  0.482895  ...        0.116869   \n",
              "1        0.415316     0.415609  0.666341  0.787835  ...        0.771184   \n",
              "2        0.683186     0.396191  0.192501  0.429573  ...        0.911715   \n",
              "3        0.336344     0.786404  0.843621  0.441296  ...        0.801837   \n",
              "4        0.220479     0.809164  0.436669  0.530544  ...        0.222615   \n",
              "\n",
              "   UAV_4_target_y  UAV_5_track   UAV_5_x   UAV_5_y  UAV_5_vx  UAV_5_vy  \\\n",
              "0        0.723264     0.255023  0.105060  0.693768  0.915946  0.482930   \n",
              "1        0.339956     0.686534  0.586095  0.287196  0.113537  0.337113   \n",
              "2        0.397539     0.151020  0.628936  0.322092  0.906957  0.786650   \n",
              "3        0.722266     0.645184  0.357215  0.686300  0.138116  0.220912   \n",
              "4        0.642145     0.399705  0.611108  0.909877  0.759109  0.138896   \n",
              "\n",
              "   UAV_5_target_x  UAV_5_target_y  num_collisions  \n",
              "0        0.708205        0.694046            0.75  \n",
              "1        0.488949        0.271890            0.00  \n",
              "2        0.895128        0.553126            0.00  \n",
              "3        0.196630        0.589351            0.00  \n",
              "4        0.817285        0.611065            0.00  \n",
              "\n",
              "[5 rows x 36 columns]"
            ],
            "text/html": [
              "\n",
              "  <div id=\"df-76cd0597-1d3e-40dc-995a-5b2c3ba41d5a\">\n",
              "    <div class=\"colab-df-container\">\n",
              "      <div>\n",
              "<style scoped>\n",
              "    .dataframe tbody tr th:only-of-type {\n",
              "        vertical-align: middle;\n",
              "    }\n",
              "\n",
              "    .dataframe tbody tr th {\n",
              "        vertical-align: top;\n",
              "    }\n",
              "\n",
              "    .dataframe thead th {\n",
              "        text-align: right;\n",
              "    }\n",
              "</style>\n",
              "<table border=\"1\" class=\"dataframe\">\n",
              "  <thead>\n",
              "    <tr style=\"text-align: right;\">\n",
              "      <th></th>\n",
              "      <th>UAV_1_track</th>\n",
              "      <th>UAV_1_x</th>\n",
              "      <th>UAV_1_y</th>\n",
              "      <th>UAV_1_vx</th>\n",
              "      <th>UAV_1_vy</th>\n",
              "      <th>UAV_1_target_x</th>\n",
              "      <th>UAV_1_target_y</th>\n",
              "      <th>UAV_2_track</th>\n",
              "      <th>UAV_2_x</th>\n",
              "      <th>UAV_2_y</th>\n",
              "      <th>...</th>\n",
              "      <th>UAV_4_target_x</th>\n",
              "      <th>UAV_4_target_y</th>\n",
              "      <th>UAV_5_track</th>\n",
              "      <th>UAV_5_x</th>\n",
              "      <th>UAV_5_y</th>\n",
              "      <th>UAV_5_vx</th>\n",
              "      <th>UAV_5_vy</th>\n",
              "      <th>UAV_5_target_x</th>\n",
              "      <th>UAV_5_target_y</th>\n",
              "      <th>num_collisions</th>\n",
              "    </tr>\n",
              "  </thead>\n",
              "  <tbody>\n",
              "    <tr>\n",
              "      <th>0</th>\n",
              "      <td>0.003575</td>\n",
              "      <td>0.167803</td>\n",
              "      <td>0.161493</td>\n",
              "      <td>0.508819</td>\n",
              "      <td>0.985962</td>\n",
              "      <td>0.202369</td>\n",
              "      <td>0.721751</td>\n",
              "      <td>0.234008</td>\n",
              "      <td>0.174139</td>\n",
              "      <td>0.482895</td>\n",
              "      <td>...</td>\n",
              "      <td>0.116869</td>\n",
              "      <td>0.723264</td>\n",
              "      <td>0.255023</td>\n",
              "      <td>0.105060</td>\n",
              "      <td>0.693768</td>\n",
              "      <td>0.915946</td>\n",
              "      <td>0.482930</td>\n",
              "      <td>0.708205</td>\n",
              "      <td>0.694046</td>\n",
              "      <td>0.75</td>\n",
              "    </tr>\n",
              "    <tr>\n",
              "      <th>1</th>\n",
              "      <td>0.640368</td>\n",
              "      <td>0.422673</td>\n",
              "      <td>0.741763</td>\n",
              "      <td>0.165028</td>\n",
              "      <td>0.229878</td>\n",
              "      <td>0.010242</td>\n",
              "      <td>0.415316</td>\n",
              "      <td>0.415609</td>\n",
              "      <td>0.666341</td>\n",
              "      <td>0.787835</td>\n",
              "      <td>...</td>\n",
              "      <td>0.771184</td>\n",
              "      <td>0.339956</td>\n",
              "      <td>0.686534</td>\n",
              "      <td>0.586095</td>\n",
              "      <td>0.287196</td>\n",
              "      <td>0.113537</td>\n",
              "      <td>0.337113</td>\n",
              "      <td>0.488949</td>\n",
              "      <td>0.271890</td>\n",
              "      <td>0.00</td>\n",
              "    </tr>\n",
              "    <tr>\n",
              "      <th>2</th>\n",
              "      <td>0.292795</td>\n",
              "      <td>0.407523</td>\n",
              "      <td>0.804773</td>\n",
              "      <td>0.907133</td>\n",
              "      <td>0.386911</td>\n",
              "      <td>0.849959</td>\n",
              "      <td>0.683186</td>\n",
              "      <td>0.396191</td>\n",
              "      <td>0.192501</td>\n",
              "      <td>0.429573</td>\n",
              "      <td>...</td>\n",
              "      <td>0.911715</td>\n",
              "      <td>0.397539</td>\n",
              "      <td>0.151020</td>\n",
              "      <td>0.628936</td>\n",
              "      <td>0.322092</td>\n",
              "      <td>0.906957</td>\n",
              "      <td>0.786650</td>\n",
              "      <td>0.895128</td>\n",
              "      <td>0.553126</td>\n",
              "      <td>0.00</td>\n",
              "    </tr>\n",
              "    <tr>\n",
              "      <th>3</th>\n",
              "      <td>0.576375</td>\n",
              "      <td>0.245460</td>\n",
              "      <td>0.418722</td>\n",
              "      <td>0.271772</td>\n",
              "      <td>0.073294</td>\n",
              "      <td>0.197715</td>\n",
              "      <td>0.336344</td>\n",
              "      <td>0.786404</td>\n",
              "      <td>0.843621</td>\n",
              "      <td>0.441296</td>\n",
              "      <td>...</td>\n",
              "      <td>0.801837</td>\n",
              "      <td>0.722266</td>\n",
              "      <td>0.645184</td>\n",
              "      <td>0.357215</td>\n",
              "      <td>0.686300</td>\n",
              "      <td>0.138116</td>\n",
              "      <td>0.220912</td>\n",
              "      <td>0.196630</td>\n",
              "      <td>0.589351</td>\n",
              "      <td>0.00</td>\n",
              "    </tr>\n",
              "    <tr>\n",
              "      <th>4</th>\n",
              "      <td>0.368716</td>\n",
              "      <td>0.817790</td>\n",
              "      <td>0.225677</td>\n",
              "      <td>0.846167</td>\n",
              "      <td>0.177602</td>\n",
              "      <td>0.817414</td>\n",
              "      <td>0.220479</td>\n",
              "      <td>0.809164</td>\n",
              "      <td>0.436669</td>\n",
              "      <td>0.530544</td>\n",
              "      <td>...</td>\n",
              "      <td>0.222615</td>\n",
              "      <td>0.642145</td>\n",
              "      <td>0.399705</td>\n",
              "      <td>0.611108</td>\n",
              "      <td>0.909877</td>\n",
              "      <td>0.759109</td>\n",
              "      <td>0.138896</td>\n",
              "      <td>0.817285</td>\n",
              "      <td>0.611065</td>\n",
              "      <td>0.00</td>\n",
              "    </tr>\n",
              "  </tbody>\n",
              "</table>\n",
              "<p>5 rows × 36 columns</p>\n",
              "</div>\n",
              "      <button class=\"colab-df-convert\" onclick=\"convertToInteractive('df-76cd0597-1d3e-40dc-995a-5b2c3ba41d5a')\"\n",
              "              title=\"Convert this dataframe to an interactive table.\"\n",
              "              style=\"display:none;\">\n",
              "        \n",
              "  <svg xmlns=\"http://www.w3.org/2000/svg\" height=\"24px\"viewBox=\"0 0 24 24\"\n",
              "       width=\"24px\">\n",
              "    <path d=\"M0 0h24v24H0V0z\" fill=\"none\"/>\n",
              "    <path d=\"M18.56 5.44l.94 2.06.94-2.06 2.06-.94-2.06-.94-.94-2.06-.94 2.06-2.06.94zm-11 1L8.5 8.5l.94-2.06 2.06-.94-2.06-.94L8.5 2.5l-.94 2.06-2.06.94zm10 10l.94 2.06.94-2.06 2.06-.94-2.06-.94-.94-2.06-.94 2.06-2.06.94z\"/><path d=\"M17.41 7.96l-1.37-1.37c-.4-.4-.92-.59-1.43-.59-.52 0-1.04.2-1.43.59L10.3 9.45l-7.72 7.72c-.78.78-.78 2.05 0 2.83L4 21.41c.39.39.9.59 1.41.59.51 0 1.02-.2 1.41-.59l7.78-7.78 2.81-2.81c.8-.78.8-2.07 0-2.86zM5.41 20L4 18.59l7.72-7.72 1.47 1.35L5.41 20z\"/>\n",
              "  </svg>\n",
              "      </button>\n",
              "      \n",
              "  <style>\n",
              "    .colab-df-container {\n",
              "      display:flex;\n",
              "      flex-wrap:wrap;\n",
              "      gap: 12px;\n",
              "    }\n",
              "\n",
              "    .colab-df-convert {\n",
              "      background-color: #E8F0FE;\n",
              "      border: none;\n",
              "      border-radius: 50%;\n",
              "      cursor: pointer;\n",
              "      display: none;\n",
              "      fill: #1967D2;\n",
              "      height: 32px;\n",
              "      padding: 0 0 0 0;\n",
              "      width: 32px;\n",
              "    }\n",
              "\n",
              "    .colab-df-convert:hover {\n",
              "      background-color: #E2EBFA;\n",
              "      box-shadow: 0px 1px 2px rgba(60, 64, 67, 0.3), 0px 1px 3px 1px rgba(60, 64, 67, 0.15);\n",
              "      fill: #174EA6;\n",
              "    }\n",
              "\n",
              "    [theme=dark] .colab-df-convert {\n",
              "      background-color: #3B4455;\n",
              "      fill: #D2E3FC;\n",
              "    }\n",
              "\n",
              "    [theme=dark] .colab-df-convert:hover {\n",
              "      background-color: #434B5C;\n",
              "      box-shadow: 0px 1px 3px 1px rgba(0, 0, 0, 0.15);\n",
              "      filter: drop-shadow(0px 1px 2px rgba(0, 0, 0, 0.3));\n",
              "      fill: #FFFFFF;\n",
              "    }\n",
              "  </style>\n",
              "\n",
              "      <script>\n",
              "        const buttonEl =\n",
              "          document.querySelector('#df-76cd0597-1d3e-40dc-995a-5b2c3ba41d5a button.colab-df-convert');\n",
              "        buttonEl.style.display =\n",
              "          google.colab.kernel.accessAllowed ? 'block' : 'none';\n",
              "\n",
              "        async function convertToInteractive(key) {\n",
              "          const element = document.querySelector('#df-76cd0597-1d3e-40dc-995a-5b2c3ba41d5a');\n",
              "          const dataTable =\n",
              "            await google.colab.kernel.invokeFunction('convertToInteractive',\n",
              "                                                     [key], {});\n",
              "          if (!dataTable) return;\n",
              "\n",
              "          const docLinkHtml = 'Like what you see? Visit the ' +\n",
              "            '<a target=\"_blank\" href=https://colab.research.google.com/notebooks/data_table.ipynb>data table notebook</a>'\n",
              "            + ' to learn more about interactive tables.';\n",
              "          element.innerHTML = '';\n",
              "          dataTable['output_type'] = 'display_data';\n",
              "          await google.colab.output.renderOutput(dataTable, element);\n",
              "          const docLink = document.createElement('div');\n",
              "          docLink.innerHTML = docLinkHtml;\n",
              "          element.appendChild(docLink);\n",
              "        }\n",
              "      </script>\n",
              "    </div>\n",
              "  </div>\n",
              "  "
            ]
          },
          "metadata": {},
          "execution_count": 90
        }
      ]
    },
    {
      "cell_type": "markdown",
      "source": [
        "##Normalized Dataset with unit Vector"
      ],
      "metadata": {
        "id": "Sy_S4tQzR9HX"
      }
    },
    {
      "cell_type": "code",
      "source": [
        "names = dataset.columns\n",
        "X_all = dataset.iloc[:,:-2]\n",
        "y_all = dataset.iloc[:,-1]\n",
        "X_all=preprocessing.normalize(X_all)\n",
        "#y_all=preprocessing.normalize(y_all)\n",
        "class_names = np.array([\"0\",\"1\",\"2\",\"3\",\"4\"])"
      ],
      "metadata": {
        "id": "X-aQ1xmBSCiq"
      },
      "execution_count": 86,
      "outputs": []
    },
    {
      "cell_type": "markdown",
      "source": [
        "##Normalized Test with mean removal and variance scaling"
      ],
      "metadata": {
        "id": "xeRAbOzgKf-1"
      }
    },
    {
      "cell_type": "code",
      "source": [
        "scaler = preprocessing.StandardScaler().fit(dataset)\n",
        "d=scaler.fit_transform(dataset)\n",
        "names = dataset.columns\n",
        "scaled_df = pd.DataFrame(d,columns=names)\n",
        "X_all = scaled_df.iloc[:,:-2]\n",
        "y_all = scaled_df.iloc[:,-2]\n",
        "class_names = np.array([\"0\",\"1\",\"2\",\"3\",\"4\"])\n",
        "X_all.head()"
      ],
      "metadata": {
        "colab": {
          "base_uri": "https://localhost:8080/",
          "height": 300
        },
        "id": "T3QoiwH4KmbG",
        "outputId": "43a95de9-289b-4461-eb9c-569ceaf65bfd"
      },
      "execution_count": null,
      "outputs": [
        {
          "output_type": "execute_result",
          "data": {
            "text/plain": [
              "   UAV_1_track   UAV_1_x   UAV_1_y  UAV_1_vx  UAV_1_vy  UAV_1_target_x  \\\n",
              "0    -1.716449 -1.622653 -1.605434  0.028033  1.528305       -1.120844   \n",
              "1     0.517720 -0.404497  1.192812 -1.041943 -0.803886       -1.863554   \n",
              "2    -0.701730 -0.476909  1.496668  1.267701 -0.319508        1.382562   \n",
              "3     0.293204 -1.251492 -0.364995 -0.709726 -1.286880       -1.138833   \n",
              "4    -0.435363  1.483968 -1.295918  1.077958 -0.965134        1.256749   \n",
              "\n",
              "   UAV_1_target_y  UAV_2_track   UAV_2_x   UAV_2_y  ...  UAV_4_vy  \\\n",
              "0        0.848169    -0.934516 -1.458329 -0.080881  ...  0.149195   \n",
              "1       -0.341506    -0.293685  0.855370  1.341817  ... -1.599624   \n",
              "2        0.698446    -0.362207 -1.372011 -0.329652  ... -1.169040   \n",
              "3       -0.648101     1.014773  1.688712 -0.274959  ...  0.952515   \n",
              "4       -1.097924     1.095090 -0.224250  0.141425  ... -0.210913   \n",
              "\n",
              "   UAV_4_target_x  UAV_4_target_y  UAV_5_track   UAV_5_x   UAV_5_y  UAV_5_vx  \\\n",
              "0       -1.430235        0.800377    -0.866545 -1.699431  0.821942  1.219419   \n",
              "1        1.148769       -0.688636     0.649873  0.354368 -0.916189 -1.201367   \n",
              "2        1.702676       -0.464945    -1.232036  0.537281 -0.767010  1.192301   \n",
              "3        1.269591        0.796500     0.504560 -0.622844  0.790017 -1.127215   \n",
              "4       -1.013435        0.485260    -0.358106  0.461165  1.745826  0.746258   \n",
              "\n",
              "   UAV_5_vy  UAV_5_target_x  UAV_5_target_y  \n",
              "0 -0.035688        0.782818        0.668860  \n",
              "1 -0.507752       -0.063923       -0.951171  \n",
              "2  0.947566        1.504686        0.128075  \n",
              "3 -0.883940       -1.192821        0.267092  \n",
              "4 -1.149457        1.204069        0.350421  \n",
              "\n",
              "[5 rows x 35 columns]"
            ],
            "text/html": [
              "\n",
              "  <div id=\"df-cd4ce2eb-1c39-4f1e-8ef3-3d5f17eefad3\">\n",
              "    <div class=\"colab-df-container\">\n",
              "      <div>\n",
              "<style scoped>\n",
              "    .dataframe tbody tr th:only-of-type {\n",
              "        vertical-align: middle;\n",
              "    }\n",
              "\n",
              "    .dataframe tbody tr th {\n",
              "        vertical-align: top;\n",
              "    }\n",
              "\n",
              "    .dataframe thead th {\n",
              "        text-align: right;\n",
              "    }\n",
              "</style>\n",
              "<table border=\"1\" class=\"dataframe\">\n",
              "  <thead>\n",
              "    <tr style=\"text-align: right;\">\n",
              "      <th></th>\n",
              "      <th>UAV_1_track</th>\n",
              "      <th>UAV_1_x</th>\n",
              "      <th>UAV_1_y</th>\n",
              "      <th>UAV_1_vx</th>\n",
              "      <th>UAV_1_vy</th>\n",
              "      <th>UAV_1_target_x</th>\n",
              "      <th>UAV_1_target_y</th>\n",
              "      <th>UAV_2_track</th>\n",
              "      <th>UAV_2_x</th>\n",
              "      <th>UAV_2_y</th>\n",
              "      <th>...</th>\n",
              "      <th>UAV_4_vy</th>\n",
              "      <th>UAV_4_target_x</th>\n",
              "      <th>UAV_4_target_y</th>\n",
              "      <th>UAV_5_track</th>\n",
              "      <th>UAV_5_x</th>\n",
              "      <th>UAV_5_y</th>\n",
              "      <th>UAV_5_vx</th>\n",
              "      <th>UAV_5_vy</th>\n",
              "      <th>UAV_5_target_x</th>\n",
              "      <th>UAV_5_target_y</th>\n",
              "    </tr>\n",
              "  </thead>\n",
              "  <tbody>\n",
              "    <tr>\n",
              "      <th>0</th>\n",
              "      <td>-1.716449</td>\n",
              "      <td>-1.622653</td>\n",
              "      <td>-1.605434</td>\n",
              "      <td>0.028033</td>\n",
              "      <td>1.528305</td>\n",
              "      <td>-1.120844</td>\n",
              "      <td>0.848169</td>\n",
              "      <td>-0.934516</td>\n",
              "      <td>-1.458329</td>\n",
              "      <td>-0.080881</td>\n",
              "      <td>...</td>\n",
              "      <td>0.149195</td>\n",
              "      <td>-1.430235</td>\n",
              "      <td>0.800377</td>\n",
              "      <td>-0.866545</td>\n",
              "      <td>-1.699431</td>\n",
              "      <td>0.821942</td>\n",
              "      <td>1.219419</td>\n",
              "      <td>-0.035688</td>\n",
              "      <td>0.782818</td>\n",
              "      <td>0.668860</td>\n",
              "    </tr>\n",
              "    <tr>\n",
              "      <th>1</th>\n",
              "      <td>0.517720</td>\n",
              "      <td>-0.404497</td>\n",
              "      <td>1.192812</td>\n",
              "      <td>-1.041943</td>\n",
              "      <td>-0.803886</td>\n",
              "      <td>-1.863554</td>\n",
              "      <td>-0.341506</td>\n",
              "      <td>-0.293685</td>\n",
              "      <td>0.855370</td>\n",
              "      <td>1.341817</td>\n",
              "      <td>...</td>\n",
              "      <td>-1.599624</td>\n",
              "      <td>1.148769</td>\n",
              "      <td>-0.688636</td>\n",
              "      <td>0.649873</td>\n",
              "      <td>0.354368</td>\n",
              "      <td>-0.916189</td>\n",
              "      <td>-1.201367</td>\n",
              "      <td>-0.507752</td>\n",
              "      <td>-0.063923</td>\n",
              "      <td>-0.951171</td>\n",
              "    </tr>\n",
              "    <tr>\n",
              "      <th>2</th>\n",
              "      <td>-0.701730</td>\n",
              "      <td>-0.476909</td>\n",
              "      <td>1.496668</td>\n",
              "      <td>1.267701</td>\n",
              "      <td>-0.319508</td>\n",
              "      <td>1.382562</td>\n",
              "      <td>0.698446</td>\n",
              "      <td>-0.362207</td>\n",
              "      <td>-1.372011</td>\n",
              "      <td>-0.329652</td>\n",
              "      <td>...</td>\n",
              "      <td>-1.169040</td>\n",
              "      <td>1.702676</td>\n",
              "      <td>-0.464945</td>\n",
              "      <td>-1.232036</td>\n",
              "      <td>0.537281</td>\n",
              "      <td>-0.767010</td>\n",
              "      <td>1.192301</td>\n",
              "      <td>0.947566</td>\n",
              "      <td>1.504686</td>\n",
              "      <td>0.128075</td>\n",
              "    </tr>\n",
              "    <tr>\n",
              "      <th>3</th>\n",
              "      <td>0.293204</td>\n",
              "      <td>-1.251492</td>\n",
              "      <td>-0.364995</td>\n",
              "      <td>-0.709726</td>\n",
              "      <td>-1.286880</td>\n",
              "      <td>-1.138833</td>\n",
              "      <td>-0.648101</td>\n",
              "      <td>1.014773</td>\n",
              "      <td>1.688712</td>\n",
              "      <td>-0.274959</td>\n",
              "      <td>...</td>\n",
              "      <td>0.952515</td>\n",
              "      <td>1.269591</td>\n",
              "      <td>0.796500</td>\n",
              "      <td>0.504560</td>\n",
              "      <td>-0.622844</td>\n",
              "      <td>0.790017</td>\n",
              "      <td>-1.127215</td>\n",
              "      <td>-0.883940</td>\n",
              "      <td>-1.192821</td>\n",
              "      <td>0.267092</td>\n",
              "    </tr>\n",
              "    <tr>\n",
              "      <th>4</th>\n",
              "      <td>-0.435363</td>\n",
              "      <td>1.483968</td>\n",
              "      <td>-1.295918</td>\n",
              "      <td>1.077958</td>\n",
              "      <td>-0.965134</td>\n",
              "      <td>1.256749</td>\n",
              "      <td>-1.097924</td>\n",
              "      <td>1.095090</td>\n",
              "      <td>-0.224250</td>\n",
              "      <td>0.141425</td>\n",
              "      <td>...</td>\n",
              "      <td>-0.210913</td>\n",
              "      <td>-1.013435</td>\n",
              "      <td>0.485260</td>\n",
              "      <td>-0.358106</td>\n",
              "      <td>0.461165</td>\n",
              "      <td>1.745826</td>\n",
              "      <td>0.746258</td>\n",
              "      <td>-1.149457</td>\n",
              "      <td>1.204069</td>\n",
              "      <td>0.350421</td>\n",
              "    </tr>\n",
              "  </tbody>\n",
              "</table>\n",
              "<p>5 rows × 35 columns</p>\n",
              "</div>\n",
              "      <button class=\"colab-df-convert\" onclick=\"convertToInteractive('df-cd4ce2eb-1c39-4f1e-8ef3-3d5f17eefad3')\"\n",
              "              title=\"Convert this dataframe to an interactive table.\"\n",
              "              style=\"display:none;\">\n",
              "        \n",
              "  <svg xmlns=\"http://www.w3.org/2000/svg\" height=\"24px\"viewBox=\"0 0 24 24\"\n",
              "       width=\"24px\">\n",
              "    <path d=\"M0 0h24v24H0V0z\" fill=\"none\"/>\n",
              "    <path d=\"M18.56 5.44l.94 2.06.94-2.06 2.06-.94-2.06-.94-.94-2.06-.94 2.06-2.06.94zm-11 1L8.5 8.5l.94-2.06 2.06-.94-2.06-.94L8.5 2.5l-.94 2.06-2.06.94zm10 10l.94 2.06.94-2.06 2.06-.94-2.06-.94-.94-2.06-.94 2.06-2.06.94z\"/><path d=\"M17.41 7.96l-1.37-1.37c-.4-.4-.92-.59-1.43-.59-.52 0-1.04.2-1.43.59L10.3 9.45l-7.72 7.72c-.78.78-.78 2.05 0 2.83L4 21.41c.39.39.9.59 1.41.59.51 0 1.02-.2 1.41-.59l7.78-7.78 2.81-2.81c.8-.78.8-2.07 0-2.86zM5.41 20L4 18.59l7.72-7.72 1.47 1.35L5.41 20z\"/>\n",
              "  </svg>\n",
              "      </button>\n",
              "      \n",
              "  <style>\n",
              "    .colab-df-container {\n",
              "      display:flex;\n",
              "      flex-wrap:wrap;\n",
              "      gap: 12px;\n",
              "    }\n",
              "\n",
              "    .colab-df-convert {\n",
              "      background-color: #E8F0FE;\n",
              "      border: none;\n",
              "      border-radius: 50%;\n",
              "      cursor: pointer;\n",
              "      display: none;\n",
              "      fill: #1967D2;\n",
              "      height: 32px;\n",
              "      padding: 0 0 0 0;\n",
              "      width: 32px;\n",
              "    }\n",
              "\n",
              "    .colab-df-convert:hover {\n",
              "      background-color: #E2EBFA;\n",
              "      box-shadow: 0px 1px 2px rgba(60, 64, 67, 0.3), 0px 1px 3px 1px rgba(60, 64, 67, 0.15);\n",
              "      fill: #174EA6;\n",
              "    }\n",
              "\n",
              "    [theme=dark] .colab-df-convert {\n",
              "      background-color: #3B4455;\n",
              "      fill: #D2E3FC;\n",
              "    }\n",
              "\n",
              "    [theme=dark] .colab-df-convert:hover {\n",
              "      background-color: #434B5C;\n",
              "      box-shadow: 0px 1px 3px 1px rgba(0, 0, 0, 0.15);\n",
              "      filter: drop-shadow(0px 1px 2px rgba(0, 0, 0, 0.3));\n",
              "      fill: #FFFFFF;\n",
              "    }\n",
              "  </style>\n",
              "\n",
              "      <script>\n",
              "        const buttonEl =\n",
              "          document.querySelector('#df-cd4ce2eb-1c39-4f1e-8ef3-3d5f17eefad3 button.colab-df-convert');\n",
              "        buttonEl.style.display =\n",
              "          google.colab.kernel.accessAllowed ? 'block' : 'none';\n",
              "\n",
              "        async function convertToInteractive(key) {\n",
              "          const element = document.querySelector('#df-cd4ce2eb-1c39-4f1e-8ef3-3d5f17eefad3');\n",
              "          const dataTable =\n",
              "            await google.colab.kernel.invokeFunction('convertToInteractive',\n",
              "                                                     [key], {});\n",
              "          if (!dataTable) return;\n",
              "\n",
              "          const docLinkHtml = 'Like what you see? Visit the ' +\n",
              "            '<a target=\"_blank\" href=https://colab.research.google.com/notebooks/data_table.ipynb>data table notebook</a>'\n",
              "            + ' to learn more about interactive tables.';\n",
              "          element.innerHTML = '';\n",
              "          dataTable['output_type'] = 'display_data';\n",
              "          await google.colab.output.renderOutput(dataTable, element);\n",
              "          const docLink = document.createElement('div');\n",
              "          docLink.innerHTML = docLinkHtml;\n",
              "          element.appendChild(docLink);\n",
              "        }\n",
              "      </script>\n",
              "    </div>\n",
              "  </div>\n",
              "  "
            ]
          },
          "metadata": {},
          "execution_count": 20
        }
      ]
    },
    {
      "cell_type": "markdown",
      "source": [
        "## Normalized test with RobustScaler"
      ],
      "metadata": {
        "id": "rfEzblHgEeib"
      }
    },
    {
      "cell_type": "code",
      "source": [
        "scaler = preprocessing.RobustScaler().fit(dataset)\n",
        "d=scaler.fit_transform(dataset)\n",
        "names = dataset.columns\n",
        "scaled_df = pd.DataFrame(d,columns=names)\n",
        "X_all = scaled_df.iloc[:,:-2]\n",
        "y_all = scaled_df.iloc[:,-2]\n",
        "class_names = np.array([\"0\",\"1\",\"2\",\"3\",\"4\"])\n",
        "X_all.head()"
      ],
      "metadata": {
        "colab": {
          "base_uri": "https://localhost:8080/",
          "height": 300
        },
        "id": "jriiqqX1EpNi",
        "outputId": "edd51cba-c742-492b-d349-c548ebc24e56"
      },
      "execution_count": null,
      "outputs": [
        {
          "output_type": "execute_result",
          "data": {
            "text/plain": [
              "   UAV_1_track   UAV_1_x   UAV_1_y  UAV_1_vx  UAV_1_vy  UAV_1_target_x  \\\n",
              "0    -1.013418 -1.024432 -1.092455  0.006052  0.771178       -0.677074   \n",
              "1     0.299283 -0.236641  0.792996 -0.536874 -0.384643       -1.104799   \n",
              "2    -0.417213 -0.283471  0.997733  0.635083 -0.144588        0.764636   \n",
              "3     0.167367 -0.784399 -0.256651 -0.368300 -0.624012       -0.687434   \n",
              "4    -0.260707  0.984643 -0.883904  0.538804 -0.464557        0.692180   \n",
              "\n",
              "   UAV_1_target_y  UAV_2_track   UAV_2_x   UAV_2_y  ...  UAV_4_vy  \\\n",
              "0        0.504303    -0.580127 -1.003186 -0.044063  ...  0.051787   \n",
              "1       -0.180816    -0.188856  0.550774  0.856713  ... -0.835904   \n",
              "2        0.418080    -0.230693 -0.945212 -0.201572  ... -0.617342   \n",
              "3       -0.357381     0.610047  1.110475 -0.166943  ...  0.459548   \n",
              "4       -0.616429     0.659086 -0.174336  0.096689  ... -0.131002   \n",
              "\n",
              "   UAV_4_target_x  UAV_4_target_y  UAV_5_track   UAV_5_x   UAV_5_y  UAV_5_vx  \\\n",
              "0       -0.842565        0.437358    -0.457888 -1.056806  0.499256  0.574846   \n",
              "1        0.685923       -0.388408     0.419413  0.215760 -0.553222 -0.587333   \n",
              "2        1.014205       -0.264356    -0.669337  0.329096 -0.462891  0.561827   \n",
              "3        0.757530        0.435208     0.335344 -0.389736  0.479925 -0.551735   \n",
              "4       -0.595542        0.262602    -0.163738  0.281933  1.058690  0.347689   \n",
              "\n",
              "   UAV_5_vy  UAV_5_target_x  UAV_5_target_y  \n",
              "0  0.002500        0.428784        0.364549  \n",
              "1 -0.245736       -0.039274       -0.544360  \n",
              "2  0.519547        0.827816        0.061145  \n",
              "3 -0.443555       -0.663302        0.139140  \n",
              "4 -0.583178        0.661642        0.185891  \n",
              "\n",
              "[5 rows x 35 columns]"
            ],
            "text/html": [
              "\n",
              "  <div id=\"df-505d5022-fba3-4404-aa31-c4f7ddce3060\">\n",
              "    <div class=\"colab-df-container\">\n",
              "      <div>\n",
              "<style scoped>\n",
              "    .dataframe tbody tr th:only-of-type {\n",
              "        vertical-align: middle;\n",
              "    }\n",
              "\n",
              "    .dataframe tbody tr th {\n",
              "        vertical-align: top;\n",
              "    }\n",
              "\n",
              "    .dataframe thead th {\n",
              "        text-align: right;\n",
              "    }\n",
              "</style>\n",
              "<table border=\"1\" class=\"dataframe\">\n",
              "  <thead>\n",
              "    <tr style=\"text-align: right;\">\n",
              "      <th></th>\n",
              "      <th>UAV_1_track</th>\n",
              "      <th>UAV_1_x</th>\n",
              "      <th>UAV_1_y</th>\n",
              "      <th>UAV_1_vx</th>\n",
              "      <th>UAV_1_vy</th>\n",
              "      <th>UAV_1_target_x</th>\n",
              "      <th>UAV_1_target_y</th>\n",
              "      <th>UAV_2_track</th>\n",
              "      <th>UAV_2_x</th>\n",
              "      <th>UAV_2_y</th>\n",
              "      <th>...</th>\n",
              "      <th>UAV_4_vy</th>\n",
              "      <th>UAV_4_target_x</th>\n",
              "      <th>UAV_4_target_y</th>\n",
              "      <th>UAV_5_track</th>\n",
              "      <th>UAV_5_x</th>\n",
              "      <th>UAV_5_y</th>\n",
              "      <th>UAV_5_vx</th>\n",
              "      <th>UAV_5_vy</th>\n",
              "      <th>UAV_5_target_x</th>\n",
              "      <th>UAV_5_target_y</th>\n",
              "    </tr>\n",
              "  </thead>\n",
              "  <tbody>\n",
              "    <tr>\n",
              "      <th>0</th>\n",
              "      <td>-1.013418</td>\n",
              "      <td>-1.024432</td>\n",
              "      <td>-1.092455</td>\n",
              "      <td>0.006052</td>\n",
              "      <td>0.771178</td>\n",
              "      <td>-0.677074</td>\n",
              "      <td>0.504303</td>\n",
              "      <td>-0.580127</td>\n",
              "      <td>-1.003186</td>\n",
              "      <td>-0.044063</td>\n",
              "      <td>...</td>\n",
              "      <td>0.051787</td>\n",
              "      <td>-0.842565</td>\n",
              "      <td>0.437358</td>\n",
              "      <td>-0.457888</td>\n",
              "      <td>-1.056806</td>\n",
              "      <td>0.499256</td>\n",
              "      <td>0.574846</td>\n",
              "      <td>0.002500</td>\n",
              "      <td>0.428784</td>\n",
              "      <td>0.364549</td>\n",
              "    </tr>\n",
              "    <tr>\n",
              "      <th>1</th>\n",
              "      <td>0.299283</td>\n",
              "      <td>-0.236641</td>\n",
              "      <td>0.792996</td>\n",
              "      <td>-0.536874</td>\n",
              "      <td>-0.384643</td>\n",
              "      <td>-1.104799</td>\n",
              "      <td>-0.180816</td>\n",
              "      <td>-0.188856</td>\n",
              "      <td>0.550774</td>\n",
              "      <td>0.856713</td>\n",
              "      <td>...</td>\n",
              "      <td>-0.835904</td>\n",
              "      <td>0.685923</td>\n",
              "      <td>-0.388408</td>\n",
              "      <td>0.419413</td>\n",
              "      <td>0.215760</td>\n",
              "      <td>-0.553222</td>\n",
              "      <td>-0.587333</td>\n",
              "      <td>-0.245736</td>\n",
              "      <td>-0.039274</td>\n",
              "      <td>-0.544360</td>\n",
              "    </tr>\n",
              "    <tr>\n",
              "      <th>2</th>\n",
              "      <td>-0.417213</td>\n",
              "      <td>-0.283471</td>\n",
              "      <td>0.997733</td>\n",
              "      <td>0.635083</td>\n",
              "      <td>-0.144588</td>\n",
              "      <td>0.764636</td>\n",
              "      <td>0.418080</td>\n",
              "      <td>-0.230693</td>\n",
              "      <td>-0.945212</td>\n",
              "      <td>-0.201572</td>\n",
              "      <td>...</td>\n",
              "      <td>-0.617342</td>\n",
              "      <td>1.014205</td>\n",
              "      <td>-0.264356</td>\n",
              "      <td>-0.669337</td>\n",
              "      <td>0.329096</td>\n",
              "      <td>-0.462891</td>\n",
              "      <td>0.561827</td>\n",
              "      <td>0.519547</td>\n",
              "      <td>0.827816</td>\n",
              "      <td>0.061145</td>\n",
              "    </tr>\n",
              "    <tr>\n",
              "      <th>3</th>\n",
              "      <td>0.167367</td>\n",
              "      <td>-0.784399</td>\n",
              "      <td>-0.256651</td>\n",
              "      <td>-0.368300</td>\n",
              "      <td>-0.624012</td>\n",
              "      <td>-0.687434</td>\n",
              "      <td>-0.357381</td>\n",
              "      <td>0.610047</td>\n",
              "      <td>1.110475</td>\n",
              "      <td>-0.166943</td>\n",
              "      <td>...</td>\n",
              "      <td>0.459548</td>\n",
              "      <td>0.757530</td>\n",
              "      <td>0.435208</td>\n",
              "      <td>0.335344</td>\n",
              "      <td>-0.389736</td>\n",
              "      <td>0.479925</td>\n",
              "      <td>-0.551735</td>\n",
              "      <td>-0.443555</td>\n",
              "      <td>-0.663302</td>\n",
              "      <td>0.139140</td>\n",
              "    </tr>\n",
              "    <tr>\n",
              "      <th>4</th>\n",
              "      <td>-0.260707</td>\n",
              "      <td>0.984643</td>\n",
              "      <td>-0.883904</td>\n",
              "      <td>0.538804</td>\n",
              "      <td>-0.464557</td>\n",
              "      <td>0.692180</td>\n",
              "      <td>-0.616429</td>\n",
              "      <td>0.659086</td>\n",
              "      <td>-0.174336</td>\n",
              "      <td>0.096689</td>\n",
              "      <td>...</td>\n",
              "      <td>-0.131002</td>\n",
              "      <td>-0.595542</td>\n",
              "      <td>0.262602</td>\n",
              "      <td>-0.163738</td>\n",
              "      <td>0.281933</td>\n",
              "      <td>1.058690</td>\n",
              "      <td>0.347689</td>\n",
              "      <td>-0.583178</td>\n",
              "      <td>0.661642</td>\n",
              "      <td>0.185891</td>\n",
              "    </tr>\n",
              "  </tbody>\n",
              "</table>\n",
              "<p>5 rows × 35 columns</p>\n",
              "</div>\n",
              "      <button class=\"colab-df-convert\" onclick=\"convertToInteractive('df-505d5022-fba3-4404-aa31-c4f7ddce3060')\"\n",
              "              title=\"Convert this dataframe to an interactive table.\"\n",
              "              style=\"display:none;\">\n",
              "        \n",
              "  <svg xmlns=\"http://www.w3.org/2000/svg\" height=\"24px\"viewBox=\"0 0 24 24\"\n",
              "       width=\"24px\">\n",
              "    <path d=\"M0 0h24v24H0V0z\" fill=\"none\"/>\n",
              "    <path d=\"M18.56 5.44l.94 2.06.94-2.06 2.06-.94-2.06-.94-.94-2.06-.94 2.06-2.06.94zm-11 1L8.5 8.5l.94-2.06 2.06-.94-2.06-.94L8.5 2.5l-.94 2.06-2.06.94zm10 10l.94 2.06.94-2.06 2.06-.94-2.06-.94-.94-2.06-.94 2.06-2.06.94z\"/><path d=\"M17.41 7.96l-1.37-1.37c-.4-.4-.92-.59-1.43-.59-.52 0-1.04.2-1.43.59L10.3 9.45l-7.72 7.72c-.78.78-.78 2.05 0 2.83L4 21.41c.39.39.9.59 1.41.59.51 0 1.02-.2 1.41-.59l7.78-7.78 2.81-2.81c.8-.78.8-2.07 0-2.86zM5.41 20L4 18.59l7.72-7.72 1.47 1.35L5.41 20z\"/>\n",
              "  </svg>\n",
              "      </button>\n",
              "      \n",
              "  <style>\n",
              "    .colab-df-container {\n",
              "      display:flex;\n",
              "      flex-wrap:wrap;\n",
              "      gap: 12px;\n",
              "    }\n",
              "\n",
              "    .colab-df-convert {\n",
              "      background-color: #E8F0FE;\n",
              "      border: none;\n",
              "      border-radius: 50%;\n",
              "      cursor: pointer;\n",
              "      display: none;\n",
              "      fill: #1967D2;\n",
              "      height: 32px;\n",
              "      padding: 0 0 0 0;\n",
              "      width: 32px;\n",
              "    }\n",
              "\n",
              "    .colab-df-convert:hover {\n",
              "      background-color: #E2EBFA;\n",
              "      box-shadow: 0px 1px 2px rgba(60, 64, 67, 0.3), 0px 1px 3px 1px rgba(60, 64, 67, 0.15);\n",
              "      fill: #174EA6;\n",
              "    }\n",
              "\n",
              "    [theme=dark] .colab-df-convert {\n",
              "      background-color: #3B4455;\n",
              "      fill: #D2E3FC;\n",
              "    }\n",
              "\n",
              "    [theme=dark] .colab-df-convert:hover {\n",
              "      background-color: #434B5C;\n",
              "      box-shadow: 0px 1px 3px 1px rgba(0, 0, 0, 0.15);\n",
              "      filter: drop-shadow(0px 1px 2px rgba(0, 0, 0, 0.3));\n",
              "      fill: #FFFFFF;\n",
              "    }\n",
              "  </style>\n",
              "\n",
              "      <script>\n",
              "        const buttonEl =\n",
              "          document.querySelector('#df-505d5022-fba3-4404-aa31-c4f7ddce3060 button.colab-df-convert');\n",
              "        buttonEl.style.display =\n",
              "          google.colab.kernel.accessAllowed ? 'block' : 'none';\n",
              "\n",
              "        async function convertToInteractive(key) {\n",
              "          const element = document.querySelector('#df-505d5022-fba3-4404-aa31-c4f7ddce3060');\n",
              "          const dataTable =\n",
              "            await google.colab.kernel.invokeFunction('convertToInteractive',\n",
              "                                                     [key], {});\n",
              "          if (!dataTable) return;\n",
              "\n",
              "          const docLinkHtml = 'Like what you see? Visit the ' +\n",
              "            '<a target=\"_blank\" href=https://colab.research.google.com/notebooks/data_table.ipynb>data table notebook</a>'\n",
              "            + ' to learn more about interactive tables.';\n",
              "          element.innerHTML = '';\n",
              "          dataTable['output_type'] = 'display_data';\n",
              "          await google.colab.output.renderOutput(dataTable, element);\n",
              "          const docLink = document.createElement('div');\n",
              "          docLink.innerHTML = docLinkHtml;\n",
              "          element.appendChild(docLink);\n",
              "        }\n",
              "      </script>\n",
              "    </div>\n",
              "  </div>\n",
              "  "
            ]
          },
          "metadata": {},
          "execution_count": 52
        }
      ]
    },
    {
      "cell_type": "markdown",
      "source": [
        "##Splitting the dataset"
      ],
      "metadata": {
        "id": "O2cKKTKdlTWw"
      }
    },
    {
      "cell_type": "code",
      "source": [
        "X_train, X_test, y_train, y_test = train_test_split(X_all, y_all, test_size=0.10, \n",
        "                                                    random_state=7)\n",
        "print(\"Size of training set: %d\" %X_train.shape[0])\n",
        "print(\"Size of test set: %d\" %X_test.shape[0])"
      ],
      "metadata": {
        "colab": {
          "base_uri": "https://localhost:8080/"
        },
        "id": "UtrFhwBdbPs7",
        "outputId": "9110e64b-dd15-4333-9970-8ece42cbfc3c"
      },
      "execution_count": 91,
      "outputs": [
        {
          "output_type": "stream",
          "name": "stdout",
          "text": [
            "Size of training set: 900\n",
            "Size of test set: 100\n"
          ]
        }
      ]
    },
    {
      "cell_type": "markdown",
      "source": [
        "##SVR fitting"
      ],
      "metadata": {
        "id": "f-zloqLallS_"
      }
    },
    {
      "cell_type": "code",
      "source": [
        "model = SVR(kernel='poly', C=1.5, degree=3, gamma='scale', epsilon=0.1)\n",
        "print(len(model.support_vectors_))"
      ],
      "metadata": {
        "id": "BcviE_9Cbd7V",
        "colab": {
          "base_uri": "https://localhost:8080/"
        },
        "outputId": "6aec70d8-cced-474f-967d-56b6c04b1142"
      },
      "execution_count": 92,
      "outputs": [
        {
          "output_type": "stream",
          "name": "stdout",
          "text": [
            "[458]\n",
            "(900, 36)\n",
            "0\n",
            "36\n",
            "[0.38979822]\n",
            "458\n",
            "[]\n"
          ]
        }
      ]
    },
    {
      "cell_type": "markdown",
      "source": [
        "##Linear Regression fitting"
      ],
      "metadata": {
        "id": "VfE8OswQloS_"
      }
    },
    {
      "cell_type": "code",
      "source": [
        "model = linear_model.LinearRegression()\n",
        "model.fit(X_train, y_train)"
      ],
      "metadata": {
        "colab": {
          "base_uri": "https://localhost:8080/"
        },
        "id": "CuddC30lZ82z",
        "outputId": "95655956-e492-46c9-dd70-0fb88c7b748a"
      },
      "execution_count": 81,
      "outputs": [
        {
          "output_type": "stream",
          "name": "stdout",
          "text": [
            "16060.026318714477\n",
            "[9.00196105e+00 8.53913539e+00 7.69683420e+00 7.51346041e+00\n",
            " 7.46688326e+00 7.28387238e+00 7.09745074e+00 6.93843981e+00\n",
            " 6.86527672e+00 6.76715811e+00 6.53809601e+00 6.45891413e+00\n",
            " 6.33916591e+00 6.10852757e+00 5.87878665e+00 5.77328586e+00\n",
            " 5.68650638e+00 5.55380910e+00 4.33619512e+00 4.15097361e+00\n",
            " 1.05421890e-02 1.03206690e-02 9.86858109e-03 9.74608509e-03\n",
            " 9.54989782e-03 9.37944699e-03 9.24346614e-03 9.17931755e-03\n",
            " 8.83877766e-03 8.71986569e-03 1.81531540e-04 1.63976927e-04\n",
            " 1.62551068e-04 1.60257156e-04 1.55418852e-04]\n",
            "[-9.36890702e+07  4.31373557e+03  2.25836868e+03 -1.15384580e+06\n",
            "  9.85520522e+05 -3.03596155e+03  1.05812057e+02 -3.03456214e+07\n",
            "  5.19397922e+03 -2.39640621e+03  9.79275051e+05 -2.38969280e+06\n",
            " -4.25246045e+03  3.84918464e+03  1.39008281e+08 -5.99630128e+03\n",
            "  1.74978337e+03 -1.04702259e+06 -3.87296224e+05  5.44360531e+03\n",
            " -6.35825699e+01 -6.33759039e+07 -2.42740607e+03  9.02833184e+02\n",
            " -6.76259773e+05 -5.75873468e+05 -1.69360845e+03  5.59710121e+01\n",
            " -1.12340608e+08 -1.08524912e+03  1.75642314e+03 -9.21002519e+05\n",
            "  7.04838099e+05 -1.57988766e+03 -1.12500355e+03]\n",
            "35\n"
          ]
        }
      ]
    },
    {
      "cell_type": "markdown",
      "source": [
        "##Evaluating the model"
      ],
      "metadata": {
        "id": "IQoT_jUb2QrB"
      }
    },
    {
      "cell_type": "code",
      "source": [
        "# Make predictions using the testing set\n",
        "y_pred = model.predict(X_test)\n",
        "\n",
        "# The mean squared error\n",
        "print(\"Mean squared error: %.2f\"\n",
        "      % mean_squared_error(y_test, y_pred))\n",
        "\n",
        "# R2 regression score: 1 is perfect prediction\n",
        "print('Regression score: %.2f' % r2_score(y_test, y_pred))"
      ],
      "metadata": {
        "colab": {
          "base_uri": "https://localhost:8080/"
        },
        "id": "JS1_DcaUb0F8",
        "outputId": "460b11a9-7d83-4a19-c219-ab54e44a74a6"
      },
      "execution_count": 93,
      "outputs": [
        {
          "output_type": "stream",
          "name": "stdout",
          "text": [
            "Mean squared error: 0.02\n",
            "Regression score: 0.17\n"
          ]
        }
      ]
    },
    {
      "cell_type": "markdown",
      "source": [
        "##Plotting the prediction on test set of the minCPA"
      ],
      "metadata": {
        "id": "jqWqdu1y2YoB"
      }
    },
    {
      "cell_type": "code",
      "source": [
        "# Plot outputs\n",
        "fig = plt.figure()\n",
        "ax = fig.add_subplot(111)\n",
        "xaxes=np.array([i for i in range(len(X_test))])\n",
        "plt.scatter(xaxes , y_test,  color='black')\n",
        "plt.scatter(xaxes, y_pred, color='red', linewidth=3)\n",
        "plt.xticks((xaxes))\n",
        "plt.yticks((np.arange(y_test.min(), y_test.max(), 0.07)))\n",
        "plt.xlabel(\"Number of sample\")\n",
        "plt.grid(axis='x', linestyle='-')\n",
        "#plt.show()"
      ],
      "metadata": {
        "colab": {
          "base_uri": "https://localhost:8080/",
          "height": 279
        },
        "id": "jiJ-91OucH5x",
        "outputId": "a98d2673-8fa5-466b-ab36-a9a71305cf35"
      },
      "execution_count": 94,
      "outputs": [
        {
          "output_type": "display_data",
          "data": {
            "text/plain": [
              "<Figure size 432x288 with 1 Axes>"
            ],
            "image/png": "[encoded data removed]"
          },
          "metadata": {
            "needs_background": "light"
          }
        }
      ]
    },
    {
      "cell_type": "markdown",
      "source": [
        "##GridSearch for SVR"
      ],
      "metadata": {
        "id": "qGHBK6dC2gjB"
      }
    },
    {
      "cell_type": "code",
      "source": [
        "grid_search_regression = GridSearchCV(model,\n",
        "                           {\n",
        "                              'C':np.arange(0.1,2,0.1),                            \n",
        "                            'kernel': ('linear', 'rbf','poly','sigmoid'),\n",
        "                            #If the kernel is poly (above line commented), you can also choose the best degree\n",
        "                            #Otherwise keep commented\n",
        "                            'degree': np.arange(1,4,1),\n",
        "                            'epsilon': np.arange(0.01,0.4,0.01),\n",
        "                            },cv=5, scoring=\"r2\",verbose=1,n_jobs=-1\n",
        "                           )\n",
        "print(\"\\n\\nGrid Search for Regression\\n\\n\")\n",
        "print(grid_search_regression.fit(X_train,y_train))\n",
        "\n",
        "#Best parameters for the regressor\n",
        "print(\"Best regression hyper-parameters: %r\" %grid_search_regression.best_params_)\n",
        "print(\"Best R2 score: %.2f\" %grid_search_regression.best_score_)"
      ],
      "metadata": {
        "colab": {
          "base_uri": "https://localhost:8080/"
        },
        "id": "lukJ-EDvlYRb",
        "outputId": "0e4125bf-0b2a-4be2-cf18-34eea0c76ca9"
      },
      "execution_count": 95,
      "outputs": [
        {
          "output_type": "stream",
          "name": "stdout",
          "text": [
            "\n",
            "\n",
            "Grid Search for Regression\n",
            "\n",
            "\n",
            "Fitting 5 folds for each of 8892 candidates, totalling 44460 fits\n",
            "GridSearchCV(cv=5, estimator=SVR(C=1.5, kernel='poly'), n_jobs=-1,\n",
            "             param_grid={'C': array([0.1, 0.2, 0.3, 0.4, 0.5, 0.6, 0.7, 0.8, 0.9, 1. , 1.1, 1.2, 1.3,\n",
            "       1.4, 1.5, 1.6, 1.7, 1.8, 1.9]),\n",
            "                         'degree': array([1, 2, 3]),\n",
            "                         'epsilon': array([0.01, 0.02, 0.03, 0.04, 0.05, 0.06, 0.07, 0.08, 0.09, 0.1 , 0.11,\n",
            "       0.12, 0.13, 0.14, 0.15, 0.16, 0.17, 0.18, 0.19, 0.2 , 0.21, 0.22,\n",
            "       0.23, 0.24, 0.25, 0.26, 0.27, 0.28, 0.29, 0.3 , 0.31, 0.32, 0.33,\n",
            "       0.34, 0.35, 0.36, 0.37, 0.38, 0.39]),\n",
            "                         'kernel': ('linear', 'rbf', 'poly', 'sigmoid')},\n",
            "             scoring='r2', verbose=1)\n",
            "Best regression hyper-parameters: {'C': 0.5, 'degree': 1, 'epsilon': 0.05, 'kernel': 'rbf'}\n",
            "Best R2 score: 0.41\n"
          ]
        }
      ]
    },
    {
      "cell_type": "code",
      "source": [
        "# Make predictions using the testing set\n",
        "y_pred = grid_search_regression.predict(X_test)\n",
        "\n",
        "# The mean squared error\n",
        "print(\"Mean squared error: %.2f\"\n",
        "      % mean_squared_error(y_test, y_pred))\n",
        "\n",
        "# R2 regression score: 1 is perfect prediction\n",
        "print('Regression score: %.2f' % r2_score(y_test, y_pred))"
      ],
      "metadata": {
        "colab": {
          "base_uri": "https://localhost:8080/"
        },
        "id": "aOMppq9ORngw",
        "outputId": "1485ec11-a073-4374-81a8-d783e505ef4f"
      },
      "execution_count": 96,
      "outputs": [
        {
          "output_type": "stream",
          "name": "stdout",
          "text": [
            "Mean squared error: 0.01\n",
            "Regression score: 0.47\n"
          ]
        }
      ]
    },
    {
      "cell_type": "markdown",
      "source": [
        "##Grid Search for Linear Regression"
      ],
      "metadata": {
        "id": "Zhy20A1j2ljC"
      }
    },
    {
      "cell_type": "code",
      "source": [
        "grid_search_regression = GridSearchCV(model,\n",
        "                           {\n",
        "                               'fit_intercept':(True,False),\n",
        "                            'normalize':(True,False),\n",
        "                            'positive':(True,False)        \n",
        "                           },cv=10, scoring=\"r2\",verbose=1,n_jobs=-1\n",
        "                           )\n",
        "print(\"\\n\\nGrid Search for Regression\\n\\n\")\n",
        "print(grid_search_regression.fit(X_all,y_all))\n",
        "\n",
        "#Best parameters for the regressor\n",
        "print(\"Best regression hyper-parameters: %r\" %grid_search_regression.best_params_)\n",
        "print(\"Best R2 score: %.2f\" %grid_search_regression.best_score_)"
      ],
      "metadata": {
        "colab": {
          "base_uri": "https://localhost:8080/"
        },
        "id": "7h31AJjibOXn",
        "outputId": "e979e39e-7355-40fd-e944-21d20c71257a"
      },
      "execution_count": 84,
      "outputs": [
        {
          "output_type": "stream",
          "name": "stdout",
          "text": [
            "\n",
            "\n",
            "Grid Search for Regression\n",
            "\n",
            "\n",
            "Fitting 10 folds for each of 8 candidates, totalling 80 fits\n",
            "GridSearchCV(cv=10, estimator=LinearRegression(), n_jobs=-1,\n",
            "             param_grid={'fit_intercept': (True, False),\n",
            "                         'normalize': (True, False),\n",
            "                         'positive': (True, False)},\n",
            "             scoring='r2', verbose=1)\n",
            "Best regression hyper-parameters: {'fit_intercept': True, 'normalize': False, 'positive': True}\n",
            "Best R2 score: -0.03\n"
          ]
        },
        {
          "output_type": "stream",
          "name": "stderr",
          "text": [
            "/usr/local/lib/python3.8/dist-packages/sklearn/linear_model/_base.py:148: FutureWarning: 'normalize' was deprecated in version 1.0 and will be removed in 1.2. Please leave the normalize parameter to its default value to silence this warning. The default behavior of this estimator is to not do any normalization. If normalization is needed please use sklearn.preprocessing.StandardScaler instead.\n",
            "  warnings.warn(\n"
          ]
        }
      ]
    },
    {
      "cell_type": "code",
      "source": [
        "# Make predictions using the testing set\n",
        "y_pred = grid_search_regression.predict(X_test)\n",
        "\n",
        "# The mean squared error\n",
        "print(\"Mean squared error: %.2f\"\n",
        "      % mean_squared_error(y_test, y_pred))\n",
        "\n",
        "# R2 regression score: 1 is perfect prediction\n",
        "print('Regression score: %.2f' % r2_score(y_test, y_pred))"
      ],
      "metadata": {
        "id": "NPpifzzhjX3-",
        "colab": {
          "base_uri": "https://localhost:8080/"
        },
        "outputId": "0859474f-cef9-40e3-98c6-ff9e3d108018"
      },
      "execution_count": 85,
      "outputs": [
        {
          "output_type": "stream",
          "name": "stdout",
          "text": [
            "Mean squared error: 87719862.39\n",
            "Regression score: -0.03\n"
          ]
        }
      ]
    }
  ]
}